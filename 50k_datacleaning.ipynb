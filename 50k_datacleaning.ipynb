{
  "nbformat": 4,
  "nbformat_minor": 0,
  "metadata": {
    "colab": {
      "provenance": []
    },
    "kernelspec": {
      "name": "python3",
      "display_name": "Python 3"
    },
    "language_info": {
      "name": "python"
    }
  },
  "cells": [
    {
      "cell_type": "code",
      "execution_count": null,
      "metadata": {
        "id": "JRR4K9B-giOy"
      },
      "outputs": [],
      "source": [
        "import numpy as np\n",
        "import pandas as pd\n",
        "import matplotlib.pyplot as plt"
      ]
    },
    {
      "cell_type": "code",
      "source": [
        "from google.colab import drive\n",
        "drive.mount('/content/gdrive')\n"
      ],
      "metadata": {
        "colab": {
          "base_uri": "https://localhost:8080/"
        },
        "id": "95AqzBikglam",
        "outputId": "8cceeb72-2859-4d06-9ddd-a9c9fef4e012"
      },
      "execution_count": null,
      "outputs": [
        {
          "output_type": "stream",
          "name": "stdout",
          "text": [
            "Mounted at /content/gdrive\n"
          ]
        }
      ]
    },
    {
      "cell_type": "code",
      "source": [
        "data =pd.read_csv(\"/content/gdrive/MyDrive/Google Colab/yelp_50k.csv\", on_bad_lines='skip')"
      ],
      "metadata": {
        "colab": {
          "base_uri": "https://localhost:8080/"
        },
        "id": "88sbtdufgpV7",
        "outputId": "c1be9621-a910-4ddc-dbe7-6fc65c7a0c8b"
      },
      "execution_count": null,
      "outputs": [
        {
          "output_type": "stream",
          "name": "stderr",
          "text": [
            "/usr/local/lib/python3.7/dist-packages/IPython/core/interactiveshell.py:2882: DtypeWarning: Columns (45,46,47,48,49,50,51,52,53,54,55,56,57,58,59,60,61,62,63,64,65,66,67,68,69,70,71,72,73,74,75,76,77,78,79,80,81,82,83,84,85,86,87,88,89,90,91,92,93,94,95,96,97,98,99,100,101,102,103,104,105,106,107,108,109,110,111,112,113,114,115,116,117,118,119,120,121,122,123,124,125,126,127,128,129,130,131,132,133) have mixed types.Specify dtype option on import or set low_memory=False.\n",
            "  exec(code_obj, self.user_global_ns, self.user_ns)\n"
          ]
        }
      ]
    },
    {
      "cell_type": "code",
      "source": [
        "data.shape"
      ],
      "metadata": {
        "colab": {
          "base_uri": "https://localhost:8080/"
        },
        "id": "PFOH5ISTg0aV",
        "outputId": "0d7d7010-9421-4726-966f-3522ed2e208b"
      },
      "execution_count": null,
      "outputs": [
        {
          "output_type": "execute_result",
          "data": {
            "text/plain": [
              "(50000, 134)"
            ]
          },
          "metadata": {},
          "execution_count": 4
        }
      ]
    },
    {
      "cell_type": "code",
      "source": [
        "data.head(1)"
      ],
      "metadata": {
        "colab": {
          "base_uri": "https://localhost:8080/",
          "height": 296
        },
        "id": "KLT3Wwi9g2jN",
        "outputId": "4c69c4f8-fcd6-429b-bc22-d5c1a4418c0e"
      },
      "execution_count": null,
      "outputs": [
        {
          "output_type": "execute_result",
          "data": {
            "text/plain": [
              "                review_id                 user_id             business_id  \\\n",
              "0  KU_O5udG6zpxOg-VcAEodg  mh_-eMZ6K5RLWhZyISBhwA  XQfwVwDr-v0ZS3_CbbE5Xw   \n",
              "\n",
              "   stars  useful  funny  cool  \\\n",
              "0      3       0      0     0   \n",
              "\n",
              "                                                text            date  \\\n",
              "0  If you decide to eat here, just be aware it is...  7/7/2018 22:09   \n",
              "\n",
              "  Unnamed: 9  ... Unnamed: 124 Unnamed: 125 Unnamed: 126 Unnamed: 127  \\\n",
              "0        NaN  ...          NaN          NaN          NaN          NaN   \n",
              "\n",
              "  Unnamed: 128 Unnamed: 129 Unnamed: 130 Unnamed: 131 Unnamed: 132  \\\n",
              "0          NaN          NaN          NaN          NaN          NaN   \n",
              "\n",
              "  Unnamed: 133  \n",
              "0          NaN  \n",
              "\n",
              "[1 rows x 134 columns]"
            ],
            "text/html": [
              "\n",
              "  <div id=\"df-3451f5b1-34cf-4668-9c8f-3f8f0584cc5d\">\n",
              "    <div class=\"colab-df-container\">\n",
              "      <div>\n",
              "<style scoped>\n",
              "    .dataframe tbody tr th:only-of-type {\n",
              "        vertical-align: middle;\n",
              "    }\n",
              "\n",
              "    .dataframe tbody tr th {\n",
              "        vertical-align: top;\n",
              "    }\n",
              "\n",
              "    .dataframe thead th {\n",
              "        text-align: right;\n",
              "    }\n",
              "</style>\n",
              "<table border=\"1\" class=\"dataframe\">\n",
              "  <thead>\n",
              "    <tr style=\"text-align: right;\">\n",
              "      <th></th>\n",
              "      <th>review_id</th>\n",
              "      <th>user_id</th>\n",
              "      <th>business_id</th>\n",
              "      <th>stars</th>\n",
              "      <th>useful</th>\n",
              "      <th>funny</th>\n",
              "      <th>cool</th>\n",
              "      <th>text</th>\n",
              "      <th>date</th>\n",
              "      <th>Unnamed: 9</th>\n",
              "      <th>...</th>\n",
              "      <th>Unnamed: 124</th>\n",
              "      <th>Unnamed: 125</th>\n",
              "      <th>Unnamed: 126</th>\n",
              "      <th>Unnamed: 127</th>\n",
              "      <th>Unnamed: 128</th>\n",
              "      <th>Unnamed: 129</th>\n",
              "      <th>Unnamed: 130</th>\n",
              "      <th>Unnamed: 131</th>\n",
              "      <th>Unnamed: 132</th>\n",
              "      <th>Unnamed: 133</th>\n",
              "    </tr>\n",
              "  </thead>\n",
              "  <tbody>\n",
              "    <tr>\n",
              "      <th>0</th>\n",
              "      <td>KU_O5udG6zpxOg-VcAEodg</td>\n",
              "      <td>mh_-eMZ6K5RLWhZyISBhwA</td>\n",
              "      <td>XQfwVwDr-v0ZS3_CbbE5Xw</td>\n",
              "      <td>3</td>\n",
              "      <td>0</td>\n",
              "      <td>0</td>\n",
              "      <td>0</td>\n",
              "      <td>If you decide to eat here, just be aware it is...</td>\n",
              "      <td>7/7/2018 22:09</td>\n",
              "      <td>NaN</td>\n",
              "      <td>...</td>\n",
              "      <td>NaN</td>\n",
              "      <td>NaN</td>\n",
              "      <td>NaN</td>\n",
              "      <td>NaN</td>\n",
              "      <td>NaN</td>\n",
              "      <td>NaN</td>\n",
              "      <td>NaN</td>\n",
              "      <td>NaN</td>\n",
              "      <td>NaN</td>\n",
              "      <td>NaN</td>\n",
              "    </tr>\n",
              "  </tbody>\n",
              "</table>\n",
              "<p>1 rows × 134 columns</p>\n",
              "</div>\n",
              "      <button class=\"colab-df-convert\" onclick=\"convertToInteractive('df-3451f5b1-34cf-4668-9c8f-3f8f0584cc5d')\"\n",
              "              title=\"Convert this dataframe to an interactive table.\"\n",
              "              style=\"display:none;\">\n",
              "        \n",
              "  <svg xmlns=\"http://www.w3.org/2000/svg\" height=\"24px\"viewBox=\"0 0 24 24\"\n",
              "       width=\"24px\">\n",
              "    <path d=\"M0 0h24v24H0V0z\" fill=\"none\"/>\n",
              "    <path d=\"M18.56 5.44l.94 2.06.94-2.06 2.06-.94-2.06-.94-.94-2.06-.94 2.06-2.06.94zm-11 1L8.5 8.5l.94-2.06 2.06-.94-2.06-.94L8.5 2.5l-.94 2.06-2.06.94zm10 10l.94 2.06.94-2.06 2.06-.94-2.06-.94-.94-2.06-.94 2.06-2.06.94z\"/><path d=\"M17.41 7.96l-1.37-1.37c-.4-.4-.92-.59-1.43-.59-.52 0-1.04.2-1.43.59L10.3 9.45l-7.72 7.72c-.78.78-.78 2.05 0 2.83L4 21.41c.39.39.9.59 1.41.59.51 0 1.02-.2 1.41-.59l7.78-7.78 2.81-2.81c.8-.78.8-2.07 0-2.86zM5.41 20L4 18.59l7.72-7.72 1.47 1.35L5.41 20z\"/>\n",
              "  </svg>\n",
              "      </button>\n",
              "      \n",
              "  <style>\n",
              "    .colab-df-container {\n",
              "      display:flex;\n",
              "      flex-wrap:wrap;\n",
              "      gap: 12px;\n",
              "    }\n",
              "\n",
              "    .colab-df-convert {\n",
              "      background-color: #E8F0FE;\n",
              "      border: none;\n",
              "      border-radius: 50%;\n",
              "      cursor: pointer;\n",
              "      display: none;\n",
              "      fill: #1967D2;\n",
              "      height: 32px;\n",
              "      padding: 0 0 0 0;\n",
              "      width: 32px;\n",
              "    }\n",
              "\n",
              "    .colab-df-convert:hover {\n",
              "      background-color: #E2EBFA;\n",
              "      box-shadow: 0px 1px 2px rgba(60, 64, 67, 0.3), 0px 1px 3px 1px rgba(60, 64, 67, 0.15);\n",
              "      fill: #174EA6;\n",
              "    }\n",
              "\n",
              "    [theme=dark] .colab-df-convert {\n",
              "      background-color: #3B4455;\n",
              "      fill: #D2E3FC;\n",
              "    }\n",
              "\n",
              "    [theme=dark] .colab-df-convert:hover {\n",
              "      background-color: #434B5C;\n",
              "      box-shadow: 0px 1px 3px 1px rgba(0, 0, 0, 0.15);\n",
              "      filter: drop-shadow(0px 1px 2px rgba(0, 0, 0, 0.3));\n",
              "      fill: #FFFFFF;\n",
              "    }\n",
              "  </style>\n",
              "\n",
              "      <script>\n",
              "        const buttonEl =\n",
              "          document.querySelector('#df-3451f5b1-34cf-4668-9c8f-3f8f0584cc5d button.colab-df-convert');\n",
              "        buttonEl.style.display =\n",
              "          google.colab.kernel.accessAllowed ? 'block' : 'none';\n",
              "\n",
              "        async function convertToInteractive(key) {\n",
              "          const element = document.querySelector('#df-3451f5b1-34cf-4668-9c8f-3f8f0584cc5d');\n",
              "          const dataTable =\n",
              "            await google.colab.kernel.invokeFunction('convertToInteractive',\n",
              "                                                     [key], {});\n",
              "          if (!dataTable) return;\n",
              "\n",
              "          const docLinkHtml = 'Like what you see? Visit the ' +\n",
              "            '<a target=\"_blank\" href=https://colab.research.google.com/notebooks/data_table.ipynb>data table notebook</a>'\n",
              "            + ' to learn more about interactive tables.';\n",
              "          element.innerHTML = '';\n",
              "          dataTable['output_type'] = 'display_data';\n",
              "          await google.colab.output.renderOutput(dataTable, element);\n",
              "          const docLink = document.createElement('div');\n",
              "          docLink.innerHTML = docLinkHtml;\n",
              "          element.appendChild(docLink);\n",
              "        }\n",
              "      </script>\n",
              "    </div>\n",
              "  </div>\n",
              "  "
            ]
          },
          "metadata": {},
          "execution_count": 5
        }
      ]
    },
    {
      "cell_type": "code",
      "source": [
        "new_data = data.drop(data.columns[9:134], axis =1)\n",
        "new_data.head()"
      ],
      "metadata": {
        "colab": {
          "base_uri": "https://localhost:8080/",
          "height": 337
        },
        "id": "u4uDy55dg6wW",
        "outputId": "2accc0d2-e8bf-4171-f21f-9a731d450673"
      },
      "execution_count": null,
      "outputs": [
        {
          "output_type": "execute_result",
          "data": {
            "text/plain": [
              "                review_id                 user_id             business_id  \\\n",
              "0  KU_O5udG6zpxOg-VcAEodg  mh_-eMZ6K5RLWhZyISBhwA  XQfwVwDr-v0ZS3_CbbE5Xw   \n",
              "1  BiTunyQ73aT9WBnpR9DZGw  OyoGAe7OKpv6SyGZT5g77Q  7ATYjTIgM3jUlt4UM3IypQ   \n",
              "2  saUsX_uimxRlCVr67Z4Jig  8g_iMtfSiwikVnbP2etR0A  YjUWPpI6HXG530lwP-fb2A   \n",
              "3  AqPFMleE6RsU23_auESxiA  _7bHUi9Uuf5__HHc_Q8guQ  kxX2SOes4o-D3ZQBkiMRfA   \n",
              "4  Sx8TMOWLNuJBWer-0pcmoA  bcjbaE6dDog4jkNY91ncLQ  e4Vwtrqf-wpJfwesgvdgxQ   \n",
              "\n",
              "   stars  useful  funny  cool  \\\n",
              "0      3       0      0     0   \n",
              "1      5       1      0     1   \n",
              "2      3       0      0     0   \n",
              "3      5       1      0     1   \n",
              "4      4       1      0     1   \n",
              "\n",
              "                                                text             date  \n",
              "0  If you decide to eat here, just be aware it is...   7/7/2018 22:09  \n",
              "1  I've taken a lot of spin classes over the year...   1/3/2012 15:28  \n",
              "2  Family diner. Had the buffet. Eclectic assortm...   2/5/2014 20:30  \n",
              "3  Wow!  Yummy, different,  delicious.   Our favo...    1/4/2015 0:01  \n",
              "4  Cute interior and owner (?) gave us tour of up...  1/14/2017 20:54  "
            ],
            "text/html": [
              "\n",
              "  <div id=\"df-068d0991-b051-42ad-a84c-7a72d2bca2c8\">\n",
              "    <div class=\"colab-df-container\">\n",
              "      <div>\n",
              "<style scoped>\n",
              "    .dataframe tbody tr th:only-of-type {\n",
              "        vertical-align: middle;\n",
              "    }\n",
              "\n",
              "    .dataframe tbody tr th {\n",
              "        vertical-align: top;\n",
              "    }\n",
              "\n",
              "    .dataframe thead th {\n",
              "        text-align: right;\n",
              "    }\n",
              "</style>\n",
              "<table border=\"1\" class=\"dataframe\">\n",
              "  <thead>\n",
              "    <tr style=\"text-align: right;\">\n",
              "      <th></th>\n",
              "      <th>review_id</th>\n",
              "      <th>user_id</th>\n",
              "      <th>business_id</th>\n",
              "      <th>stars</th>\n",
              "      <th>useful</th>\n",
              "      <th>funny</th>\n",
              "      <th>cool</th>\n",
              "      <th>text</th>\n",
              "      <th>date</th>\n",
              "    </tr>\n",
              "  </thead>\n",
              "  <tbody>\n",
              "    <tr>\n",
              "      <th>0</th>\n",
              "      <td>KU_O5udG6zpxOg-VcAEodg</td>\n",
              "      <td>mh_-eMZ6K5RLWhZyISBhwA</td>\n",
              "      <td>XQfwVwDr-v0ZS3_CbbE5Xw</td>\n",
              "      <td>3</td>\n",
              "      <td>0</td>\n",
              "      <td>0</td>\n",
              "      <td>0</td>\n",
              "      <td>If you decide to eat here, just be aware it is...</td>\n",
              "      <td>7/7/2018 22:09</td>\n",
              "    </tr>\n",
              "    <tr>\n",
              "      <th>1</th>\n",
              "      <td>BiTunyQ73aT9WBnpR9DZGw</td>\n",
              "      <td>OyoGAe7OKpv6SyGZT5g77Q</td>\n",
              "      <td>7ATYjTIgM3jUlt4UM3IypQ</td>\n",
              "      <td>5</td>\n",
              "      <td>1</td>\n",
              "      <td>0</td>\n",
              "      <td>1</td>\n",
              "      <td>I've taken a lot of spin classes over the year...</td>\n",
              "      <td>1/3/2012 15:28</td>\n",
              "    </tr>\n",
              "    <tr>\n",
              "      <th>2</th>\n",
              "      <td>saUsX_uimxRlCVr67Z4Jig</td>\n",
              "      <td>8g_iMtfSiwikVnbP2etR0A</td>\n",
              "      <td>YjUWPpI6HXG530lwP-fb2A</td>\n",
              "      <td>3</td>\n",
              "      <td>0</td>\n",
              "      <td>0</td>\n",
              "      <td>0</td>\n",
              "      <td>Family diner. Had the buffet. Eclectic assortm...</td>\n",
              "      <td>2/5/2014 20:30</td>\n",
              "    </tr>\n",
              "    <tr>\n",
              "      <th>3</th>\n",
              "      <td>AqPFMleE6RsU23_auESxiA</td>\n",
              "      <td>_7bHUi9Uuf5__HHc_Q8guQ</td>\n",
              "      <td>kxX2SOes4o-D3ZQBkiMRfA</td>\n",
              "      <td>5</td>\n",
              "      <td>1</td>\n",
              "      <td>0</td>\n",
              "      <td>1</td>\n",
              "      <td>Wow!  Yummy, different,  delicious.   Our favo...</td>\n",
              "      <td>1/4/2015 0:01</td>\n",
              "    </tr>\n",
              "    <tr>\n",
              "      <th>4</th>\n",
              "      <td>Sx8TMOWLNuJBWer-0pcmoA</td>\n",
              "      <td>bcjbaE6dDog4jkNY91ncLQ</td>\n",
              "      <td>e4Vwtrqf-wpJfwesgvdgxQ</td>\n",
              "      <td>4</td>\n",
              "      <td>1</td>\n",
              "      <td>0</td>\n",
              "      <td>1</td>\n",
              "      <td>Cute interior and owner (?) gave us tour of up...</td>\n",
              "      <td>1/14/2017 20:54</td>\n",
              "    </tr>\n",
              "  </tbody>\n",
              "</table>\n",
              "</div>\n",
              "      <button class=\"colab-df-convert\" onclick=\"convertToInteractive('df-068d0991-b051-42ad-a84c-7a72d2bca2c8')\"\n",
              "              title=\"Convert this dataframe to an interactive table.\"\n",
              "              style=\"display:none;\">\n",
              "        \n",
              "  <svg xmlns=\"http://www.w3.org/2000/svg\" height=\"24px\"viewBox=\"0 0 24 24\"\n",
              "       width=\"24px\">\n",
              "    <path d=\"M0 0h24v24H0V0z\" fill=\"none\"/>\n",
              "    <path d=\"M18.56 5.44l.94 2.06.94-2.06 2.06-.94-2.06-.94-.94-2.06-.94 2.06-2.06.94zm-11 1L8.5 8.5l.94-2.06 2.06-.94-2.06-.94L8.5 2.5l-.94 2.06-2.06.94zm10 10l.94 2.06.94-2.06 2.06-.94-2.06-.94-.94-2.06-.94 2.06-2.06.94z\"/><path d=\"M17.41 7.96l-1.37-1.37c-.4-.4-.92-.59-1.43-.59-.52 0-1.04.2-1.43.59L10.3 9.45l-7.72 7.72c-.78.78-.78 2.05 0 2.83L4 21.41c.39.39.9.59 1.41.59.51 0 1.02-.2 1.41-.59l7.78-7.78 2.81-2.81c.8-.78.8-2.07 0-2.86zM5.41 20L4 18.59l7.72-7.72 1.47 1.35L5.41 20z\"/>\n",
              "  </svg>\n",
              "      </button>\n",
              "      \n",
              "  <style>\n",
              "    .colab-df-container {\n",
              "      display:flex;\n",
              "      flex-wrap:wrap;\n",
              "      gap: 12px;\n",
              "    }\n",
              "\n",
              "    .colab-df-convert {\n",
              "      background-color: #E8F0FE;\n",
              "      border: none;\n",
              "      border-radius: 50%;\n",
              "      cursor: pointer;\n",
              "      display: none;\n",
              "      fill: #1967D2;\n",
              "      height: 32px;\n",
              "      padding: 0 0 0 0;\n",
              "      width: 32px;\n",
              "    }\n",
              "\n",
              "    .colab-df-convert:hover {\n",
              "      background-color: #E2EBFA;\n",
              "      box-shadow: 0px 1px 2px rgba(60, 64, 67, 0.3), 0px 1px 3px 1px rgba(60, 64, 67, 0.15);\n",
              "      fill: #174EA6;\n",
              "    }\n",
              "\n",
              "    [theme=dark] .colab-df-convert {\n",
              "      background-color: #3B4455;\n",
              "      fill: #D2E3FC;\n",
              "    }\n",
              "\n",
              "    [theme=dark] .colab-df-convert:hover {\n",
              "      background-color: #434B5C;\n",
              "      box-shadow: 0px 1px 3px 1px rgba(0, 0, 0, 0.15);\n",
              "      filter: drop-shadow(0px 1px 2px rgba(0, 0, 0, 0.3));\n",
              "      fill: #FFFFFF;\n",
              "    }\n",
              "  </style>\n",
              "\n",
              "      <script>\n",
              "        const buttonEl =\n",
              "          document.querySelector('#df-068d0991-b051-42ad-a84c-7a72d2bca2c8 button.colab-df-convert');\n",
              "        buttonEl.style.display =\n",
              "          google.colab.kernel.accessAllowed ? 'block' : 'none';\n",
              "\n",
              "        async function convertToInteractive(key) {\n",
              "          const element = document.querySelector('#df-068d0991-b051-42ad-a84c-7a72d2bca2c8');\n",
              "          const dataTable =\n",
              "            await google.colab.kernel.invokeFunction('convertToInteractive',\n",
              "                                                     [key], {});\n",
              "          if (!dataTable) return;\n",
              "\n",
              "          const docLinkHtml = 'Like what you see? Visit the ' +\n",
              "            '<a target=\"_blank\" href=https://colab.research.google.com/notebooks/data_table.ipynb>data table notebook</a>'\n",
              "            + ' to learn more about interactive tables.';\n",
              "          element.innerHTML = '';\n",
              "          dataTable['output_type'] = 'display_data';\n",
              "          await google.colab.output.renderOutput(dataTable, element);\n",
              "          const docLink = document.createElement('div');\n",
              "          docLink.innerHTML = docLinkHtml;\n",
              "          element.appendChild(docLink);\n",
              "        }\n",
              "      </script>\n",
              "    </div>\n",
              "  </div>\n",
              "  "
            ]
          },
          "metadata": {},
          "execution_count": 6
        }
      ]
    },
    {
      "cell_type": "code",
      "source": [
        "new_data.shape"
      ],
      "metadata": {
        "colab": {
          "base_uri": "https://localhost:8080/"
        },
        "id": "OPpW1iNohDFX",
        "outputId": "ad11f2b3-44e1-4b65-eaf4-9ec768bc4b61"
      },
      "execution_count": null,
      "outputs": [
        {
          "output_type": "execute_result",
          "data": {
            "text/plain": [
              "(50000, 9)"
            ]
          },
          "metadata": {},
          "execution_count": 7
        }
      ]
    },
    {
      "cell_type": "code",
      "source": [
        "import warnings\n",
        "warnings.filterwarnings('ignore')"
      ],
      "metadata": {
        "id": "wID1x04MhHSj"
      },
      "execution_count": null,
      "outputs": []
    },
    {
      "cell_type": "code",
      "source": [
        "import numpy as np # linear algebra\n",
        "import pandas as pd # data processing, CSV file I/O (e.g. pd.read_csv)\n",
        "import seaborn as sns # attractive and informative statistical graphs\n",
        "import matplotlib.pyplot as plt # for interactive 2D graphics\n",
        "%pylab inline\n",
        "\n",
        "import nltk # natural language processing\n",
        "from nltk.corpus import stopwords\n",
        "from sklearn.feature_extraction.text import CountVectorizer\n",
        "from sklearn.model_selection import train_test_split\n",
        "from sklearn.naive_bayes import MultinomialNB\n",
        "from sklearn.neighbors import KNeighborsClassifier\n",
        "from sklearn.metrics import confusion_matrix, classification_report\n",
        "from sklearn.svm import SVC # Support Vector Machines\n",
        "from sklearn.ensemble import RandomForestClassifier # Random Forest\n",
        "from sklearn.linear_model import LogisticRegression #Logistic Regression\n",
        "from sklearn.metrics import accuracy_score"
      ],
      "metadata": {
        "colab": {
          "base_uri": "https://localhost:8080/"
        },
        "id": "9-hjtCx-hJfL",
        "outputId": "028e8334-6b86-4346-f0d1-9beda8aca2ab"
      },
      "execution_count": null,
      "outputs": [
        {
          "output_type": "stream",
          "name": "stdout",
          "text": [
            "Populating the interactive namespace from numpy and matplotlib\n"
          ]
        }
      ]
    },
    {
      "cell_type": "code",
      "source": [
        "new_data.isnull().any()"
      ],
      "metadata": {
        "colab": {
          "base_uri": "https://localhost:8080/"
        },
        "id": "n0gIm-tehLiG",
        "outputId": "ed5526a2-2bef-4e63-f1c3-733d022221cb"
      },
      "execution_count": null,
      "outputs": [
        {
          "output_type": "execute_result",
          "data": {
            "text/plain": [
              "review_id      False\n",
              "user_id        False\n",
              "business_id    False\n",
              "stars          False\n",
              "useful         False\n",
              "funny          False\n",
              "cool           False\n",
              "text           False\n",
              "date            True\n",
              "dtype: bool"
            ]
          },
          "metadata": {},
          "execution_count": 10
        }
      ]
    },
    {
      "cell_type": "code",
      "source": [
        "new_data.describe()"
      ],
      "metadata": {
        "colab": {
          "base_uri": "https://localhost:8080/",
          "height": 300
        },
        "id": "HLFxcDZ9hNcQ",
        "outputId": "166e4771-f322-46d4-c160-5c5ac89e1611"
      },
      "execution_count": null,
      "outputs": [
        {
          "output_type": "execute_result",
          "data": {
            "text/plain": [
              "              stars        useful         funny          cool\n",
              "count  50000.000000  50000.000000  50000.000000  50000.000000\n",
              "mean       3.848000      0.889540      0.250440      0.345060\n",
              "std        1.350308      1.864481      0.941455      1.072388\n",
              "min        1.000000      0.000000      0.000000      0.000000\n",
              "25%        3.000000      0.000000      0.000000      0.000000\n",
              "50%        4.000000      0.000000      0.000000      0.000000\n",
              "75%        5.000000      1.000000      0.000000      0.000000\n",
              "max        5.000000     91.000000     38.000000     49.000000"
            ],
            "text/html": [
              "\n",
              "  <div id=\"df-6f6e62b3-da94-411c-992c-5a27bebb7311\">\n",
              "    <div class=\"colab-df-container\">\n",
              "      <div>\n",
              "<style scoped>\n",
              "    .dataframe tbody tr th:only-of-type {\n",
              "        vertical-align: middle;\n",
              "    }\n",
              "\n",
              "    .dataframe tbody tr th {\n",
              "        vertical-align: top;\n",
              "    }\n",
              "\n",
              "    .dataframe thead th {\n",
              "        text-align: right;\n",
              "    }\n",
              "</style>\n",
              "<table border=\"1\" class=\"dataframe\">\n",
              "  <thead>\n",
              "    <tr style=\"text-align: right;\">\n",
              "      <th></th>\n",
              "      <th>stars</th>\n",
              "      <th>useful</th>\n",
              "      <th>funny</th>\n",
              "      <th>cool</th>\n",
              "    </tr>\n",
              "  </thead>\n",
              "  <tbody>\n",
              "    <tr>\n",
              "      <th>count</th>\n",
              "      <td>50000.000000</td>\n",
              "      <td>50000.000000</td>\n",
              "      <td>50000.000000</td>\n",
              "      <td>50000.000000</td>\n",
              "    </tr>\n",
              "    <tr>\n",
              "      <th>mean</th>\n",
              "      <td>3.848000</td>\n",
              "      <td>0.889540</td>\n",
              "      <td>0.250440</td>\n",
              "      <td>0.345060</td>\n",
              "    </tr>\n",
              "    <tr>\n",
              "      <th>std</th>\n",
              "      <td>1.350308</td>\n",
              "      <td>1.864481</td>\n",
              "      <td>0.941455</td>\n",
              "      <td>1.072388</td>\n",
              "    </tr>\n",
              "    <tr>\n",
              "      <th>min</th>\n",
              "      <td>1.000000</td>\n",
              "      <td>0.000000</td>\n",
              "      <td>0.000000</td>\n",
              "      <td>0.000000</td>\n",
              "    </tr>\n",
              "    <tr>\n",
              "      <th>25%</th>\n",
              "      <td>3.000000</td>\n",
              "      <td>0.000000</td>\n",
              "      <td>0.000000</td>\n",
              "      <td>0.000000</td>\n",
              "    </tr>\n",
              "    <tr>\n",
              "      <th>50%</th>\n",
              "      <td>4.000000</td>\n",
              "      <td>0.000000</td>\n",
              "      <td>0.000000</td>\n",
              "      <td>0.000000</td>\n",
              "    </tr>\n",
              "    <tr>\n",
              "      <th>75%</th>\n",
              "      <td>5.000000</td>\n",
              "      <td>1.000000</td>\n",
              "      <td>0.000000</td>\n",
              "      <td>0.000000</td>\n",
              "    </tr>\n",
              "    <tr>\n",
              "      <th>max</th>\n",
              "      <td>5.000000</td>\n",
              "      <td>91.000000</td>\n",
              "      <td>38.000000</td>\n",
              "      <td>49.000000</td>\n",
              "    </tr>\n",
              "  </tbody>\n",
              "</table>\n",
              "</div>\n",
              "      <button class=\"colab-df-convert\" onclick=\"convertToInteractive('df-6f6e62b3-da94-411c-992c-5a27bebb7311')\"\n",
              "              title=\"Convert this dataframe to an interactive table.\"\n",
              "              style=\"display:none;\">\n",
              "        \n",
              "  <svg xmlns=\"http://www.w3.org/2000/svg\" height=\"24px\"viewBox=\"0 0 24 24\"\n",
              "       width=\"24px\">\n",
              "    <path d=\"M0 0h24v24H0V0z\" fill=\"none\"/>\n",
              "    <path d=\"M18.56 5.44l.94 2.06.94-2.06 2.06-.94-2.06-.94-.94-2.06-.94 2.06-2.06.94zm-11 1L8.5 8.5l.94-2.06 2.06-.94-2.06-.94L8.5 2.5l-.94 2.06-2.06.94zm10 10l.94 2.06.94-2.06 2.06-.94-2.06-.94-.94-2.06-.94 2.06-2.06.94z\"/><path d=\"M17.41 7.96l-1.37-1.37c-.4-.4-.92-.59-1.43-.59-.52 0-1.04.2-1.43.59L10.3 9.45l-7.72 7.72c-.78.78-.78 2.05 0 2.83L4 21.41c.39.39.9.59 1.41.59.51 0 1.02-.2 1.41-.59l7.78-7.78 2.81-2.81c.8-.78.8-2.07 0-2.86zM5.41 20L4 18.59l7.72-7.72 1.47 1.35L5.41 20z\"/>\n",
              "  </svg>\n",
              "      </button>\n",
              "      \n",
              "  <style>\n",
              "    .colab-df-container {\n",
              "      display:flex;\n",
              "      flex-wrap:wrap;\n",
              "      gap: 12px;\n",
              "    }\n",
              "\n",
              "    .colab-df-convert {\n",
              "      background-color: #E8F0FE;\n",
              "      border: none;\n",
              "      border-radius: 50%;\n",
              "      cursor: pointer;\n",
              "      display: none;\n",
              "      fill: #1967D2;\n",
              "      height: 32px;\n",
              "      padding: 0 0 0 0;\n",
              "      width: 32px;\n",
              "    }\n",
              "\n",
              "    .colab-df-convert:hover {\n",
              "      background-color: #E2EBFA;\n",
              "      box-shadow: 0px 1px 2px rgba(60, 64, 67, 0.3), 0px 1px 3px 1px rgba(60, 64, 67, 0.15);\n",
              "      fill: #174EA6;\n",
              "    }\n",
              "\n",
              "    [theme=dark] .colab-df-convert {\n",
              "      background-color: #3B4455;\n",
              "      fill: #D2E3FC;\n",
              "    }\n",
              "\n",
              "    [theme=dark] .colab-df-convert:hover {\n",
              "      background-color: #434B5C;\n",
              "      box-shadow: 0px 1px 3px 1px rgba(0, 0, 0, 0.15);\n",
              "      filter: drop-shadow(0px 1px 2px rgba(0, 0, 0, 0.3));\n",
              "      fill: #FFFFFF;\n",
              "    }\n",
              "  </style>\n",
              "\n",
              "      <script>\n",
              "        const buttonEl =\n",
              "          document.querySelector('#df-6f6e62b3-da94-411c-992c-5a27bebb7311 button.colab-df-convert');\n",
              "        buttonEl.style.display =\n",
              "          google.colab.kernel.accessAllowed ? 'block' : 'none';\n",
              "\n",
              "        async function convertToInteractive(key) {\n",
              "          const element = document.querySelector('#df-6f6e62b3-da94-411c-992c-5a27bebb7311');\n",
              "          const dataTable =\n",
              "            await google.colab.kernel.invokeFunction('convertToInteractive',\n",
              "                                                     [key], {});\n",
              "          if (!dataTable) return;\n",
              "\n",
              "          const docLinkHtml = 'Like what you see? Visit the ' +\n",
              "            '<a target=\"_blank\" href=https://colab.research.google.com/notebooks/data_table.ipynb>data table notebook</a>'\n",
              "            + ' to learn more about interactive tables.';\n",
              "          element.innerHTML = '';\n",
              "          dataTable['output_type'] = 'display_data';\n",
              "          await google.colab.output.renderOutput(dataTable, element);\n",
              "          const docLink = document.createElement('div');\n",
              "          docLink.innerHTML = docLinkHtml;\n",
              "          element.appendChild(docLink);\n",
              "        }\n",
              "      </script>\n",
              "    </div>\n",
              "  </div>\n",
              "  "
            ]
          },
          "metadata": {},
          "execution_count": 11
        }
      ]
    },
    {
      "cell_type": "code",
      "source": [
        "new_data['stars'].groupby(new_data['stars']).count().plot(kind=\"bar\", sort_columns=True)\n",
        "plt.title('Count of each star rating')"
      ],
      "metadata": {
        "colab": {
          "base_uri": "https://localhost:8080/",
          "height": 309
        },
        "id": "xXUxrhsEhPQB",
        "outputId": "25132903-bf47-4594-af4d-6e0ada78727f"
      },
      "execution_count": null,
      "outputs": [
        {
          "output_type": "execute_result",
          "data": {
            "text/plain": [
              "Text(0.5, 1.0, 'Count of each star rating')"
            ]
          },
          "metadata": {},
          "execution_count": 12
        },
        {
          "output_type": "display_data",
          "data": {
            "text/plain": [
              "<Figure size 432x288 with 1 Axes>"
            ],
            "image/png": "[encoded data removed]"
          },
          "metadata": {
            "needs_background": "light"
          }
        }
      ]
    },
    {
      "cell_type": "code",
      "source": [
        "new_data['data len']= new_data['text'].apply(len)\n",
        "Analysis11= new_data.groupby('stars').mean()\n",
        "Analysis11.corr()"
      ],
      "metadata": {
        "colab": {
          "base_uri": "https://localhost:8080/",
          "height": 175
        },
        "id": "BdxVw3XyhSKZ",
        "outputId": "8035bb12-c6cd-4c81-bb7f-65c359fc341d"
      },
      "execution_count": null,
      "outputs": [
        {
          "output_type": "execute_result",
          "data": {
            "text/plain": [
              "            useful     funny      cool  data len\n",
              "useful    1.000000  0.950164 -0.827432  0.622493\n",
              "funny     0.950164  1.000000 -0.843897  0.820199\n",
              "cool     -0.827432 -0.843897  1.000000 -0.634156\n",
              "data len  0.622493  0.820199 -0.634156  1.000000"
            ],
            "text/html": [
              "\n",
              "  <div id=\"df-dde98987-08de-4663-9711-7f23a366a94e\">\n",
              "    <div class=\"colab-df-container\">\n",
              "      <div>\n",
              "<style scoped>\n",
              "    .dataframe tbody tr th:only-of-type {\n",
              "        vertical-align: middle;\n",
              "    }\n",
              "\n",
              "    .dataframe tbody tr th {\n",
              "        vertical-align: top;\n",
              "    }\n",
              "\n",
              "    .dataframe thead th {\n",
              "        text-align: right;\n",
              "    }\n",
              "</style>\n",
              "<table border=\"1\" class=\"dataframe\">\n",
              "  <thead>\n",
              "    <tr style=\"text-align: right;\">\n",
              "      <th></th>\n",
              "      <th>useful</th>\n",
              "      <th>funny</th>\n",
              "      <th>cool</th>\n",
              "      <th>data len</th>\n",
              "    </tr>\n",
              "  </thead>\n",
              "  <tbody>\n",
              "    <tr>\n",
              "      <th>useful</th>\n",
              "      <td>1.000000</td>\n",
              "      <td>0.950164</td>\n",
              "      <td>-0.827432</td>\n",
              "      <td>0.622493</td>\n",
              "    </tr>\n",
              "    <tr>\n",
              "      <th>funny</th>\n",
              "      <td>0.950164</td>\n",
              "      <td>1.000000</td>\n",
              "      <td>-0.843897</td>\n",
              "      <td>0.820199</td>\n",
              "    </tr>\n",
              "    <tr>\n",
              "      <th>cool</th>\n",
              "      <td>-0.827432</td>\n",
              "      <td>-0.843897</td>\n",
              "      <td>1.000000</td>\n",
              "      <td>-0.634156</td>\n",
              "    </tr>\n",
              "    <tr>\n",
              "      <th>data len</th>\n",
              "      <td>0.622493</td>\n",
              "      <td>0.820199</td>\n",
              "      <td>-0.634156</td>\n",
              "      <td>1.000000</td>\n",
              "    </tr>\n",
              "  </tbody>\n",
              "</table>\n",
              "</div>\n",
              "      <button class=\"colab-df-convert\" onclick=\"convertToInteractive('df-dde98987-08de-4663-9711-7f23a366a94e')\"\n",
              "              title=\"Convert this dataframe to an interactive table.\"\n",
              "              style=\"display:none;\">\n",
              "        \n",
              "  <svg xmlns=\"http://www.w3.org/2000/svg\" height=\"24px\"viewBox=\"0 0 24 24\"\n",
              "       width=\"24px\">\n",
              "    <path d=\"M0 0h24v24H0V0z\" fill=\"none\"/>\n",
              "    <path d=\"M18.56 5.44l.94 2.06.94-2.06 2.06-.94-2.06-.94-.94-2.06-.94 2.06-2.06.94zm-11 1L8.5 8.5l.94-2.06 2.06-.94-2.06-.94L8.5 2.5l-.94 2.06-2.06.94zm10 10l.94 2.06.94-2.06 2.06-.94-2.06-.94-.94-2.06-.94 2.06-2.06.94z\"/><path d=\"M17.41 7.96l-1.37-1.37c-.4-.4-.92-.59-1.43-.59-.52 0-1.04.2-1.43.59L10.3 9.45l-7.72 7.72c-.78.78-.78 2.05 0 2.83L4 21.41c.39.39.9.59 1.41.59.51 0 1.02-.2 1.41-.59l7.78-7.78 2.81-2.81c.8-.78.8-2.07 0-2.86zM5.41 20L4 18.59l7.72-7.72 1.47 1.35L5.41 20z\"/>\n",
              "  </svg>\n",
              "      </button>\n",
              "      \n",
              "  <style>\n",
              "    .colab-df-container {\n",
              "      display:flex;\n",
              "      flex-wrap:wrap;\n",
              "      gap: 12px;\n",
              "    }\n",
              "\n",
              "    .colab-df-convert {\n",
              "      background-color: #E8F0FE;\n",
              "      border: none;\n",
              "      border-radius: 50%;\n",
              "      cursor: pointer;\n",
              "      display: none;\n",
              "      fill: #1967D2;\n",
              "      height: 32px;\n",
              "      padding: 0 0 0 0;\n",
              "      width: 32px;\n",
              "    }\n",
              "\n",
              "    .colab-df-convert:hover {\n",
              "      background-color: #E2EBFA;\n",
              "      box-shadow: 0px 1px 2px rgba(60, 64, 67, 0.3), 0px 1px 3px 1px rgba(60, 64, 67, 0.15);\n",
              "      fill: #174EA6;\n",
              "    }\n",
              "\n",
              "    [theme=dark] .colab-df-convert {\n",
              "      background-color: #3B4455;\n",
              "      fill: #D2E3FC;\n",
              "    }\n",
              "\n",
              "    [theme=dark] .colab-df-convert:hover {\n",
              "      background-color: #434B5C;\n",
              "      box-shadow: 0px 1px 3px 1px rgba(0, 0, 0, 0.15);\n",
              "      filter: drop-shadow(0px 1px 2px rgba(0, 0, 0, 0.3));\n",
              "      fill: #FFFFFF;\n",
              "    }\n",
              "  </style>\n",
              "\n",
              "      <script>\n",
              "        const buttonEl =\n",
              "          document.querySelector('#df-dde98987-08de-4663-9711-7f23a366a94e button.colab-df-convert');\n",
              "        buttonEl.style.display =\n",
              "          google.colab.kernel.accessAllowed ? 'block' : 'none';\n",
              "\n",
              "        async function convertToInteractive(key) {\n",
              "          const element = document.querySelector('#df-dde98987-08de-4663-9711-7f23a366a94e');\n",
              "          const dataTable =\n",
              "            await google.colab.kernel.invokeFunction('convertToInteractive',\n",
              "                                                     [key], {});\n",
              "          if (!dataTable) return;\n",
              "\n",
              "          const docLinkHtml = 'Like what you see? Visit the ' +\n",
              "            '<a target=\"_blank\" href=https://colab.research.google.com/notebooks/data_table.ipynb>data table notebook</a>'\n",
              "            + ' to learn more about interactive tables.';\n",
              "          element.innerHTML = '';\n",
              "          dataTable['output_type'] = 'display_data';\n",
              "          await google.colab.output.renderOutput(dataTable, element);\n",
              "          const docLink = document.createElement('div');\n",
              "          docLink.innerHTML = docLinkHtml;\n",
              "          element.appendChild(docLink);\n",
              "        }\n",
              "      </script>\n",
              "    </div>\n",
              "  </div>\n",
              "  "
            ]
          },
          "metadata": {},
          "execution_count": 13
        }
      ]
    },
    {
      "cell_type": "code",
      "source": [
        "import os\n",
        "import nltk\n",
        "import nltk.corpus"
      ],
      "metadata": {
        "id": "aeMhac2IhWS3"
      },
      "execution_count": null,
      "outputs": []
    },
    {
      "cell_type": "code",
      "source": [
        "# Make a column and take the values, save to a variable named \"target\"\n",
        "new_data.target = new_data.stars\n",
        "\n",
        "plt.hist(new_data.target)\n",
        "plt.show()"
      ],
      "metadata": {
        "colab": {
          "base_uri": "https://localhost:8080/",
          "height": 265
        },
        "id": "_HkXUp5ShcTD",
        "outputId": "9c197fbf-c515-4bff-b7a7-8d064e37a8fe"
      },
      "execution_count": null,
      "outputs": [
        {
          "output_type": "display_data",
          "data": {
            "text/plain": [
              "<Figure size 432x288 with 1 Axes>"
            ],
            "image/png": "[encoded data removed]"
          },
          "metadata": {
            "needs_background": "light"
          }
        }
      ]
    },
    {
      "cell_type": "code",
      "source": [
        "# Take the values of the column that contains review text data, save to a variable named \"documents\"\n",
        "documents = [t for i,t in enumerate(new_data.text)]"
      ],
      "metadata": {
        "id": "QFZE5Dpzhd80"
      },
      "execution_count": null,
      "outputs": []
    },
    {
      "cell_type": "code",
      "source": [
        "# inspect your documents, e.g. check the size, take a peek at elements of the numpy array\n",
        "len(documents)"
      ],
      "metadata": {
        "colab": {
          "base_uri": "https://localhost:8080/"
        },
        "id": "YBCYFErmhf_j",
        "outputId": "0e55760a-72e6-4b8f-8f16-a85c89f0b7e8"
      },
      "execution_count": null,
      "outputs": [
        {
          "output_type": "execute_result",
          "data": {
            "text/plain": [
              "50000"
            ]
          },
          "metadata": {},
          "execution_count": 17
        }
      ]
    },
    {
      "cell_type": "code",
      "source": [
        "# first metric we're going to look at is the word count for each review\n",
        "new_data['Review_Word_Count'] = new_data['text'].apply(lambda x: len(str(x).split()))"
      ],
      "metadata": {
        "id": "bN728vfrhiCy"
      },
      "execution_count": null,
      "outputs": []
    },
    {
      "cell_type": "code",
      "source": [
        "new_data['Review_Word_Count'].plot()\n",
        "plt.title('Word Counts for Each Yelp Review')\n",
        "plt.xlabel('Review Number')\n",
        "plt.ylabel('Number of Words')"
      ],
      "metadata": {
        "colab": {
          "base_uri": "https://localhost:8080/",
          "height": 312
        },
        "id": "nG9JJ83nhlAy",
        "outputId": "d81f4dae-84ca-4a59-9e24-e32ce34801d7"
      },
      "execution_count": null,
      "outputs": [
        {
          "output_type": "execute_result",
          "data": {
            "text/plain": [
              "Text(0, 0.5, 'Number of Words')"
            ]
          },
          "metadata": {},
          "execution_count": 19
        },
        {
          "output_type": "display_data",
          "data": {
            "text/plain": [
              "<Figure size 432x288 with 1 Axes>"
            ],
            "image/png": "[encoded data removed]"
          },
          "metadata": {
            "needs_background": "light"
          }
        }
      ]
    },
    {
      "cell_type": "code",
      "source": [
        "# character count\n",
        "new_data['Review_Char_Count'] = new_data['text'].apply(lambda x: len(str(x)))"
      ],
      "metadata": {
        "id": "1kWBRRA7hnf0"
      },
      "execution_count": null,
      "outputs": []
    },
    {
      "cell_type": "code",
      "source": [
        "# Removing Stop Words\n",
        "from nltk.corpus import stopwords\n",
        "from nltk.tokenize import word_tokenize"
      ],
      "metadata": {
        "id": "hLHtpaNThqI8"
      },
      "execution_count": null,
      "outputs": []
    },
    {
      "cell_type": "code",
      "source": [
        "import nltk\n",
        "nltk.download('stopwords')\n",
        "stop_words = set(stopwords.words('english'))"
      ],
      "metadata": {
        "colab": {
          "base_uri": "https://localhost:8080/"
        },
        "id": "NzZvDexjhsI1",
        "outputId": "183dde14-cd1b-4a50-fd34-26b9009f0899"
      },
      "execution_count": null,
      "outputs": [
        {
          "output_type": "stream",
          "name": "stderr",
          "text": [
            "[nltk_data] Downloading package stopwords to /root/nltk_data...\n",
            "[nltk_data]   Unzipping corpora/stopwords.zip.\n"
          ]
        }
      ]
    },
    {
      "cell_type": "code",
      "source": [
        "# add some more columns to make the analysis easier, one column will be for lowercase reviews and the other will be for lowercase and no punctuation\n",
        "new_data['Lowercase'] = new_data['text'].apply(lambda x: ' '.join(word.lower() for word in str(x).split()))"
      ],
      "metadata": {
        "id": "jHdxIr7NhyCI"
      },
      "execution_count": null,
      "outputs": []
    },
    {
      "cell_type": "code",
      "source": [
        "new_data['Cleaned'] = new_data['Lowercase'].str.replace('[^\\w\\s]', '')"
      ],
      "metadata": {
        "id": "JrH5sCoUh0Qg"
      },
      "execution_count": null,
      "outputs": []
    },
    {
      "cell_type": "code",
      "source": [
        "import nltk\n",
        "nltk.download('punkt')"
      ],
      "metadata": {
        "colab": {
          "base_uri": "https://localhost:8080/"
        },
        "id": "UX7__5nBh9Bp",
        "outputId": "db08b29d-3af6-4387-f33f-28609aba727e"
      },
      "execution_count": null,
      "outputs": [
        {
          "output_type": "stream",
          "name": "stderr",
          "text": [
            "[nltk_data] Downloading package punkt to /root/nltk_data...\n",
            "[nltk_data]   Unzipping tokenizers/punkt.zip.\n"
          ]
        },
        {
          "output_type": "execute_result",
          "data": {
            "text/plain": [
              "True"
            ]
          },
          "metadata": {},
          "execution_count": 25
        }
      ]
    },
    {
      "cell_type": "code",
      "source": [
        "Reviews_noStopWords = []\n",
        "\n",
        "for i in range(len(new_data)):\n",
        "\n",
        "    review = str(new_data['Cleaned'][i])\n",
        "    review = review\n",
        "    review = review.lower()\n",
        "\n",
        "    stop_words = set(stopwords.words('english'))\n",
        "    word_tokens = word_tokenize(review)\n",
        "    filtered_sentence = [w for w in word_tokens if not w.lower() in stop_words]\n",
        "    filtered_sentence = []\n",
        "\n",
        "    for w in word_tokens:\n",
        "        if w not in stop_words:\n",
        "            filtered_sentence.append(w)\n",
        "\n",
        "    Reviews_noStopWords.append(filtered_sentence)"
      ],
      "metadata": {
        "id": "CWGIEj90h_m9"
      },
      "execution_count": null,
      "outputs": []
    },
    {
      "cell_type": "code",
      "source": [
        "new_data['No_Stop_Words:Tokens'] = Reviews_noStopWords"
      ],
      "metadata": {
        "id": "S9P14b-XiClo"
      },
      "execution_count": null,
      "outputs": []
    },
    {
      "cell_type": "code",
      "source": [
        "new_data['No_Stop_Words:Sentence'] = Reviews_noStopWords\n",
        "for i in range(len(new_data)):\n",
        "    text_list = new_data['No_Stop_Words:Tokens'][i]\n",
        "    blank = ''\n",
        "    for word in text_list:\n",
        "        blank = blank+' '+word\n",
        "    new_data['No_Stop_Words:Sentence'][i] = blank"
      ],
      "metadata": {
        "id": "rfNYvlaeiMbo"
      },
      "execution_count": null,
      "outputs": []
    },
    {
      "cell_type": "code",
      "source": [
        "# see how many words from the original review are stop words\n",
        "Stop_Word_Count = []\n",
        "for i in range(len(new_data)):\n",
        "    review = str(new_data['text'][i]).lower()\n",
        "\n",
        "    count = 0\n",
        "    for word in review.split():\n",
        "        if word in stop_words:\n",
        "            count += 1\n",
        "    Stop_Word_Count.append(count)\n",
        "\n",
        "new_data['Stop_Word_Count'] = Stop_Word_Count"
      ],
      "metadata": {
        "id": "mMqGuE1jiO4K"
      },
      "execution_count": null,
      "outputs": []
    },
    {
      "cell_type": "code",
      "source": [
        "# calculate the percentage of stop words instead and plot that\n",
        "full = new_data['Review_Word_Count']\n",
        "partial = new_data['Stop_Word_Count']\n",
        "\n",
        "new_data['Stop_Words_%'] = partial/full\n",
        "new_data['Stop_Words_%'].plot()\n",
        "plt.title('Percentage of Stop Words in Yelp Reviews')\n",
        "plt.xlabel('Review #')\n",
        "plt.ylabel('Stop Word Percentage');\n"
      ],
      "metadata": {
        "colab": {
          "base_uri": "https://localhost:8080/",
          "height": 295
        },
        "id": "mpIOwZ0Wirye",
        "outputId": "db56ddf7-3092-40a9-e198-d9e4266470b1"
      },
      "execution_count": null,
      "outputs": [
        {
          "output_type": "display_data",
          "data": {
            "text/plain": [
              "<Figure size 432x288 with 1 Axes>"
            ],
            "image/png": "[encoded data removed]"
          },
          "metadata": {
            "needs_background": "light"
          }
        }
      ]
    },
    {
      "cell_type": "code",
      "source": [
        "#frequently repeated\n",
        "pd.Series(''.join(new_data['No_Stop_Words:Sentence']).split()).value_counts()[:20]\n"
      ],
      "metadata": {
        "colab": {
          "base_uri": "https://localhost:8080/"
        },
        "id": "ivxvoJgUiusR",
        "outputId": "f33d7c05-a871-4703-8942-07fca467a415"
      },
      "execution_count": null,
      "outputs": [
        {
          "output_type": "execute_result",
          "data": {
            "text/plain": [
              "food       24839\n",
              "good       23307\n",
              "place      22737\n",
              "great      22113\n",
              "service    14455\n",
              "like       13706\n",
              "time       13503\n",
              "one        12959\n",
              "get        12855\n",
              "back       11921\n",
              "would      11689\n",
              "go         11133\n",
              "really     11032\n",
              "also        9336\n",
              "got         8521\n",
              "nice        8507\n",
              "best        8492\n",
              "us          8163\n",
              "staff       7554\n",
              "love        7487\n",
              "dtype: int64"
            ]
          },
          "metadata": {},
          "execution_count": 31
        }
      ]
    },
    {
      "cell_type": "code",
      "source": [
        "# Stemming and Lemmatization\n",
        "import textblob\n",
        "from textblob import Word"
      ],
      "metadata": {
        "id": "cBZotwvJi1kF"
      },
      "execution_count": null,
      "outputs": []
    },
    {
      "cell_type": "code",
      "source": [
        "import nltk\n",
        "nltk.download('wordnet')"
      ],
      "metadata": {
        "colab": {
          "base_uri": "https://localhost:8080/"
        },
        "id": "Ojq_jwlki6Wu",
        "outputId": "c05bb4e9-5ce5-4232-bc5d-fdf925769c82"
      },
      "execution_count": null,
      "outputs": [
        {
          "output_type": "stream",
          "name": "stderr",
          "text": [
            "[nltk_data] Downloading package wordnet to /root/nltk_data...\n",
            "[nltk_data]   Unzipping corpora/wordnet.zip.\n"
          ]
        },
        {
          "output_type": "execute_result",
          "data": {
            "text/plain": [
              "True"
            ]
          },
          "metadata": {},
          "execution_count": 33
        }
      ]
    },
    {
      "cell_type": "code",
      "source": [
        "import nltk\n",
        "nltk.download('omw-1.4')"
      ],
      "metadata": {
        "colab": {
          "base_uri": "https://localhost:8080/"
        },
        "id": "_xVaHJ8fi9-e",
        "outputId": "6293765b-fb79-4f8b-9de0-aa6c866ae646"
      },
      "execution_count": null,
      "outputs": [
        {
          "output_type": "stream",
          "name": "stderr",
          "text": [
            "[nltk_data] Downloading package omw-1.4 to /root/nltk_data...\n",
            "[nltk_data]   Unzipping corpora/omw-1.4.zip.\n"
          ]
        },
        {
          "output_type": "execute_result",
          "data": {
            "text/plain": [
              "True"
            ]
          },
          "metadata": {},
          "execution_count": 34
        }
      ]
    },
    {
      "cell_type": "code",
      "source": [
        "new_data['Lemmatized'] = new_data['No_Stop_Words:Sentence'].apply(lambda x: ' '.join(Word(word).lemmatize() for word in x.split()))"
      ],
      "metadata": {
        "id": "CwKTlhKDjAT-"
      },
      "execution_count": null,
      "outputs": []
    },
    {
      "cell_type": "code",
      "source": [
        "import nltk\n",
        "from nltk.stem.snowball import SnowballStemmer\n",
        "\n",
        "snowBallStemmer = SnowballStemmer(\"english\")\n",
        "\n",
        "sentence = new_data['Lemmatized'][40]\n",
        "wordList = nltk.word_tokenize(sentence)\n",
        "\n",
        "stemWords = [snowBallStemmer.stem(word) for word in wordList]\n",
        "\n",
        "stemmed = ' '.join(stemWords)\n",
        "print(sentence)\n",
        "print('')\n",
        "print(stemmed)"
      ],
      "metadata": {
        "colab": {
          "base_uri": "https://localhost:8080/"
        },
        "id": "V19ZuqeGjDQw",
        "outputId": "523e0029-04f5-4e3d-8fe7-80f42cfa4ee7"
      },
      "execution_count": null,
      "outputs": [
        {
          "output_type": "stream",
          "name": "stdout",
          "text": [
            "food good atmospheredecor like fishing lodge menu someplace outback bonefish went groupon 3 meal calamari appetizer ordered cooked perfectly def back\n",
            "\n",
            "food good atmospheredecor like fish lodg menu someplac outback bonefish went groupon 3 meal calamari appet order cook perfect def back\n"
          ]
        }
      ]
    },
    {
      "cell_type": "code",
      "source": [
        "import re\n",
        "def word_extraction(sentence):\n",
        "    words = re.sub(\"[^\\w]\", \" \",  sentence).split()\n",
        "    cleaned_text = [w.lower() for w in words]\n",
        "    return cleaned_text"
      ],
      "metadata": {
        "id": "P_ftQljpjJ8h"
      },
      "execution_count": null,
      "outputs": []
    },
    {
      "cell_type": "code",
      "source": [
        "stemmed_list = []\n",
        "stemmed_tokens_list = []\n",
        "for i in range(len(new_data)):\n",
        "    sentence = new_data['Lemmatized'][i]\n",
        "    wordList = nltk.word_tokenize(sentence)\n",
        "    stemWords = [snowBallStemmer.stem(word) for word in wordList]\n",
        "\n",
        "    stemmed = ' '.join(stemWords)\n",
        "    stemmed_list.append(stemmed)"
      ],
      "metadata": {
        "id": "ODaBBnrPjNNx"
      },
      "execution_count": null,
      "outputs": []
    },
    {
      "cell_type": "code",
      "source": [
        "new_data['Stemmed:Sentence'] = stemmed_list"
      ],
      "metadata": {
        "id": "l121xrGVjS_m"
      },
      "execution_count": null,
      "outputs": []
    },
    {
      "cell_type": "code",
      "source": [
        "\n",
        "for i in range(len(new_data)):\n",
        "    stemmed = new_data['Stemmed:Sentence'][i]\n",
        "    tokens = word_extraction(stemmed)\n",
        "    stemmed_tokens_list.append(tokens)"
      ],
      "metadata": {
        "id": "kQx9y-RHjozJ"
      },
      "execution_count": null,
      "outputs": []
    },
    {
      "cell_type": "code",
      "source": [
        "new_data['Stemmed:Tokens'] = stemmed_tokens_list"
      ],
      "metadata": {
        "id": "7TvUORTnjrKE"
      },
      "execution_count": null,
      "outputs": []
    },
    {
      "cell_type": "code",
      "source": [
        "new_data['Stemmed:Tokens'][1]"
      ],
      "metadata": {
        "colab": {
          "base_uri": "https://localhost:8080/"
        },
        "id": "uFFMaClpjtr0",
        "outputId": "40bc0518-cf74-43bc-ec27-eb99f5d6729e"
      },
      "execution_count": null,
      "outputs": [
        {
          "output_type": "execute_result",
          "data": {
            "text/plain": [
              "['ive',\n",
              " 'taken',\n",
              " 'lot',\n",
              " 'spin',\n",
              " 'class',\n",
              " 'year',\n",
              " 'noth',\n",
              " 'compar',\n",
              " 'class',\n",
              " 'bodi',\n",
              " 'cycl',\n",
              " 'nice',\n",
              " 'clean',\n",
              " 'space',\n",
              " 'amaz',\n",
              " 'bike',\n",
              " 'welcom',\n",
              " 'motiv',\n",
              " 'instructor',\n",
              " 'everi',\n",
              " 'class',\n",
              " 'top',\n",
              " 'notch',\n",
              " 'work',\n",
              " 'outnnfor',\n",
              " 'anyon',\n",
              " 'struggl',\n",
              " 'fit',\n",
              " 'workout',\n",
              " 'onlin',\n",
              " 'schedul',\n",
              " 'system',\n",
              " 'make',\n",
              " 'easi',\n",
              " 'plan',\n",
              " 'ahead',\n",
              " 'there',\n",
              " 'need',\n",
              " 'line',\n",
              " 'way',\n",
              " 'advanc',\n",
              " 'like',\n",
              " 'mani',\n",
              " 'gym',\n",
              " 'make',\n",
              " 'donnther',\n",
              " 'way',\n",
              " 'write',\n",
              " 'review',\n",
              " 'without',\n",
              " 'give',\n",
              " 'russel',\n",
              " 'owner',\n",
              " 'bodi',\n",
              " 'cycl',\n",
              " 'shout',\n",
              " 'russel',\n",
              " 'passion',\n",
              " 'fit',\n",
              " 'cycl',\n",
              " 'evid',\n",
              " 'desir',\n",
              " 'client',\n",
              " 'succeed',\n",
              " 'alway',\n",
              " 'drop',\n",
              " 'class',\n",
              " 'check',\n",
              " 'inprovid',\n",
              " 'encourag',\n",
              " 'open',\n",
              " 'idea',\n",
              " 'recommend',\n",
              " 'anyon',\n",
              " 'russel',\n",
              " 'alway',\n",
              " 'wear',\n",
              " 'smile',\n",
              " 'face',\n",
              " 'even',\n",
              " 'he',\n",
              " 'kick',\n",
              " 'butt',\n",
              " 'class']"
            ]
          },
          "metadata": {},
          "execution_count": 42
        }
      ]
    },
    {
      "cell_type": "code",
      "source": [
        "new_data['Stemmed_Word_Count'] = new_data['Stemmed:Sentence'].apply(lambda x: len(str(x).split()))"
      ],
      "metadata": {
        "id": "x1Qg4nttjw5h"
      },
      "execution_count": null,
      "outputs": []
    },
    {
      "cell_type": "code",
      "source": [
        "plt.figure(figsize=(10,5))\n",
        "new_data[new_data['Review_Word_Count']< 2000]['Review_Word_Count'].plot()\n",
        "new_data[new_data['Stemmed_Word_Count']< 1000]['Stemmed_Word_Count'].plot()\n",
        "plt.title('Review Word Count, Stemmed with No Stop Words')\n",
        "plt.xlabel('Review #')\n",
        "plt.ylabel('Number of Words')\n",
        "plt.legend()"
      ],
      "metadata": {
        "colab": {
          "base_uri": "https://localhost:8080/",
          "height": 367
        },
        "id": "zbjBhgmqj81W",
        "outputId": "33e2aebd-7375-4b9d-8e0b-ab55dc48e589"
      },
      "execution_count": null,
      "outputs": [
        {
          "output_type": "execute_result",
          "data": {
            "text/plain": [
              "<matplotlib.legend.Legend at 0x7f0a5168fb50>"
            ]
          },
          "metadata": {},
          "execution_count": 44
        },
        {
          "output_type": "display_data",
          "data": {
            "text/plain": [
              "<Figure size 720x360 with 1 Axes>"
            ],
            "image/png": "[encoded data removed]"
          },
          "metadata": {
            "needs_background": "light"
          }
        }
      ]
    },
    {
      "cell_type": "code",
      "source": [
        "#positive lexicons\n",
        "file = open(\"positive_lexicon.txt\", \"r\")\n",
        "content = file.read()\n",
        "pos_lex = content.splitlines()\n",
        "pos_lex_stem = [snowBallStemmer.stem(word) for word in pos_lex]"
      ],
      "metadata": {
        "id": "D-9-PT4tkDKX",
        "colab": {
          "base_uri": "https://localhost:8080/",
          "height": 235
        },
        "outputId": "66f42a48-d867-4dfa-fb3f-c8447ba97d53"
      },
      "execution_count": null,
      "outputs": [
        {
          "output_type": "error",
          "ename": "FileNotFoundError",
          "evalue": "ignored",
          "traceback": [
            "\u001b[0;31m---------------------------------------------------------------------------\u001b[0m",
            "\u001b[0;31mFileNotFoundError\u001b[0m                         Traceback (most recent call last)",
            "\u001b[0;32m<ipython-input-45-7cd66eb241ab>\u001b[0m in \u001b[0;36m<module>\u001b[0;34m()\u001b[0m\n\u001b[1;32m      1\u001b[0m \u001b[0;31m#positive lexicons\u001b[0m\u001b[0;34m\u001b[0m\u001b[0;34m\u001b[0m\u001b[0;34m\u001b[0m\u001b[0m\n\u001b[0;32m----> 2\u001b[0;31m \u001b[0mfile\u001b[0m \u001b[0;34m=\u001b[0m \u001b[0mopen\u001b[0m\u001b[0;34m(\u001b[0m\u001b[0;34m\"positive_lexicon.txt\"\u001b[0m\u001b[0;34m,\u001b[0m \u001b[0;34m\"r\"\u001b[0m\u001b[0;34m)\u001b[0m\u001b[0;34m\u001b[0m\u001b[0;34m\u001b[0m\u001b[0m\n\u001b[0m\u001b[1;32m      3\u001b[0m \u001b[0mcontent\u001b[0m \u001b[0;34m=\u001b[0m \u001b[0mfile\u001b[0m\u001b[0;34m.\u001b[0m\u001b[0mread\u001b[0m\u001b[0;34m(\u001b[0m\u001b[0;34m)\u001b[0m\u001b[0;34m\u001b[0m\u001b[0;34m\u001b[0m\u001b[0m\n\u001b[1;32m      4\u001b[0m \u001b[0mpos_lex\u001b[0m \u001b[0;34m=\u001b[0m \u001b[0mcontent\u001b[0m\u001b[0;34m.\u001b[0m\u001b[0msplitlines\u001b[0m\u001b[0;34m(\u001b[0m\u001b[0;34m)\u001b[0m\u001b[0;34m\u001b[0m\u001b[0;34m\u001b[0m\u001b[0m\n\u001b[1;32m      5\u001b[0m \u001b[0mpos_lex_stem\u001b[0m \u001b[0;34m=\u001b[0m \u001b[0;34m[\u001b[0m\u001b[0msnowBallStemmer\u001b[0m\u001b[0;34m.\u001b[0m\u001b[0mstem\u001b[0m\u001b[0;34m(\u001b[0m\u001b[0mword\u001b[0m\u001b[0;34m)\u001b[0m \u001b[0;32mfor\u001b[0m \u001b[0mword\u001b[0m \u001b[0;32min\u001b[0m \u001b[0mpos_lex\u001b[0m\u001b[0;34m]\u001b[0m\u001b[0;34m\u001b[0m\u001b[0;34m\u001b[0m\u001b[0m\n",
            "\u001b[0;31mFileNotFoundError\u001b[0m: [Errno 2] No such file or directory: 'positive_lexicon.txt'"
          ]
        }
      ]
    },
    {
      "cell_type": "code",
      "source": [
        "good_count = []\n",
        "for i in range(len(new_data)):\n",
        "    count = 0\n",
        "    tokens = new_data['Stemmed:Tokens'][i]\n",
        "    for word in tokens:\n",
        "        if word in pos_lex_stem:\n",
        "            count += 1\n",
        "    good_count.append(count)"
      ],
      "metadata": {
        "id": "rTzPKwu1kOcz"
      },
      "execution_count": null,
      "outputs": []
    },
    {
      "cell_type": "code",
      "source": [
        "new_data['Positive_Word_Count'] = good_count"
      ],
      "metadata": {
        "id": "9C-1fpUWkQp3"
      },
      "execution_count": null,
      "outputs": []
    },
    {
      "cell_type": "code",
      "source": [
        "new_data['Positive_Words_%'] = new_data['Positive_Word_Count']/(new_data['Review_Word_Count']-new_data['Stop_Word_Count'])"
      ],
      "metadata": {
        "id": "Yf3XR5PWkqOW"
      },
      "execution_count": null,
      "outputs": []
    },
    {
      "cell_type": "code",
      "source": [
        "new_data['Positive_Words_%'].plot()\n",
        "plt.title('Percentage of Positive Words in Yelp Reviews')\n",
        "plt.xlabel('Review #')\n",
        "plt.ylabel('Percentage')"
      ],
      "metadata": {
        "id": "AHO6QseHksDK"
      },
      "execution_count": null,
      "outputs": []
    },
    {
      "cell_type": "code",
      "source": [
        "plt.figure(figsize=(10,5))\n",
        "new_data[new_data['Review_Word_Count']< 2000]['Review_Word_Count'].plot()\n",
        "new_data[new_data['Positive_Word_Count']< 600]['Positive_Word_Count'].plot()\n",
        "plt.title('Positive Words in Yelp Reviews')\n",
        "plt.xlabel('Review #')\n",
        "plt.ylabel('Number of Words')\n",
        "plt.legend()"
      ],
      "metadata": {
        "id": "VzypQTr8kuPq"
      },
      "execution_count": null,
      "outputs": []
    },
    {
      "cell_type": "code",
      "source": [
        "file = open(\"negative_lexicon.txt\", \"r\")\n",
        "content = file.read()\n",
        "neg_lex = content.splitlines()\n",
        "neg_lex_stem = [snowBallStemmer.stem(word) for word in neg_lex]"
      ],
      "metadata": {
        "id": "HnLzVhVQkykY"
      },
      "execution_count": null,
      "outputs": []
    },
    {
      "cell_type": "code",
      "source": [
        "bad_count = []\n",
        "for i in range(len(new_data)):\n",
        "    count = 0\n",
        "    tokens = new_data['Stemmed:Tokens'][i]\n",
        "    for word in tokens:\n",
        "        if word in neg_lex_stem:\n",
        "            count += 1\n",
        "    bad_count.append(count)"
      ],
      "metadata": {
        "id": "MQ6xxq-3k033"
      },
      "execution_count": null,
      "outputs": []
    },
    {
      "cell_type": "code",
      "source": [
        "new_data['Negative_Word_Count'] = bad_count"
      ],
      "metadata": {
        "id": "rmyFcQjrk2ja"
      },
      "execution_count": null,
      "outputs": []
    },
    {
      "cell_type": "code",
      "source": [
        "new_data['Negative_Words_%'] = new_data['Negative_Word_Count']/(new_data['Review_Word_Count']-new_data['Stop_Word_Count'])"
      ],
      "metadata": {
        "id": "vHoj5Lgxl4Sg"
      },
      "execution_count": null,
      "outputs": []
    },
    {
      "cell_type": "code",
      "source": [
        "new_data['Negative_Words_%'].plot()\n",
        "plt.title('Percentage of Negative Words in Yelp Reviews')\n",
        "plt.xlabel('Review #')\n",
        "plt.ylabel('Percentage')"
      ],
      "metadata": {
        "id": "eivRJi1Jl6o3"
      },
      "execution_count": null,
      "outputs": []
    },
    {
      "cell_type": "code",
      "source": [
        "plt.figure(figsize=(10,5))\n",
        "new_data[new_data['Review_Word_Count']< 2000]['Review_Word_Count'].plot()\n",
        "new_data[new_data['Negative_Word_Count']< 600]['Negative_Word_Count'].plot()\n",
        "plt.title('Negative Words in Yelp Reviews')\n",
        "plt.xlabel('Review #')\n",
        "plt.ylabel('Number of Words')\n",
        "plt.legend()"
      ],
      "metadata": {
        "id": "Iixg0Op7mCA5"
      },
      "execution_count": null,
      "outputs": []
    },
    {
      "cell_type": "code",
      "source": [
        "bad_review = list(new_data[new_data['stars'] < 2.5]['user_id'])[0]\n",
        "bad_index = list(new_data['user_id'].unique()).index(bad_review)"
      ],
      "metadata": {
        "id": "1vMAGk-HmEPn"
      },
      "execution_count": null,
      "outputs": []
    },
    {
      "cell_type": "code",
      "source": [
        "# Polarity and subjectivity\n",
        "from textblob import TextBlob"
      ],
      "metadata": {
        "id": "PlOB8wfomHLT"
      },
      "execution_count": null,
      "outputs": []
    },
    {
      "cell_type": "code",
      "source": [
        "new_data['Polarity'] = new_data['Lemmatized'].apply(lambda x: TextBlob(x).sentiment[0])\n",
        "new_data['Subjectivity'] = new_data['Lemmatized'].apply(lambda x: TextBlob(x).sentiment[1])"
      ],
      "metadata": {
        "id": "ju1WSafymJgp"
      },
      "execution_count": null,
      "outputs": []
    },
    {
      "cell_type": "code",
      "source": [
        "pol = new_data[new_data['user_id'] == bad_review]['Polarity'].mean()\n",
        "pol"
      ],
      "metadata": {
        "id": "jqWWERJ7mLf2"
      },
      "execution_count": null,
      "outputs": []
    },
    {
      "cell_type": "code",
      "source": [
        "# Polarity and Positive Word Percentage\n",
        "#Polarity < 0: Meaning these reviews should be negative and, therofore have a lower positive words percentage\n",
        "#Polarity > 0: Where the percentage of positive words SHOULD go up\n",
        "# Polarity = 0: Where the sentiment should be neutral, so the percentage should be in between the other\n",
        "\n",
        "df1 = new_data[new_data['Polarity'] < 0]\n",
        "df2 = new_data[new_data['Polarity'] > 0]\n",
        "df3 = new_data[new_data['Polarity'] == 0]\n",
        "\n",
        "df1 = df1.sort_values(by='Polarity')\n",
        "df2 = df2.sort_values(by='Polarity')\n",
        "df3 = df3.sort_values(by='Polarity')\n",
        "\n",
        "df1 = df1.reset_index()\n",
        "df2 = df2.reset_index()\n",
        "df3 = df3.reset_index()\n",
        "\n",
        "df3.index=np.arange(len(df1),(len(df1)+len(df3)))\n",
        "df2.index=np.arange((len(df3)+len(df1)),(len(df1)+len(df3)+len(df2)))"
      ],
      "metadata": {
        "id": "NtoZfQf1mX2o"
      },
      "execution_count": null,
      "outputs": []
    },
    {
      "cell_type": "code",
      "source": [
        "df4 = new_data\n",
        "df4 = df4.sort_values(by='Polarity')"
      ],
      "metadata": {
        "id": "oN_44LLimZxm"
      },
      "execution_count": null,
      "outputs": []
    },
    {
      "cell_type": "code",
      "source": [
        "import matplotlib.transforms as transforms\n",
        "\n",
        "\n",
        "# set up figure\n",
        "fig, ax = plt.subplots(figsize=(16,8))\n",
        "\n",
        "x = new_data.index\n",
        "\n",
        "# set x axis for partial plots\n",
        "x1 = df1.index\n",
        "y1 = df1['Positive_Words_%']\n",
        "x2 = df2.index\n",
        "y2 = df2['Positive_Words_%']\n",
        "x3 = df3.index\n",
        "y3 = df3['Positive_Words_%']\n",
        "\n",
        "# calculate average for each partial\n",
        "av1 = df1['Positive_Words_%'].mean()\n",
        "av2 = df2['Positive_Words_%'].mean()\n",
        "av3 = df3['Positive_Words_%'].mean()\n",
        "\n",
        "# plot word percentage\n",
        "plt.plot(x1,y1,label='Positive Word Percentage (Polarity < 0)')\n",
        "plt.plot(x2,y2,label='Positive Word Percentage (Polarity > 0)')\n",
        "plt.plot(x3,y3,label='Positive Word Percentage (Polarity = 0)')\n",
        "\n",
        "# plot area to define polarity zones\n",
        "plt.axvspan(0,len(df1), facecolor='blue', alpha=0.2,label='Polarity < 0')\n",
        "plt.axvspan(len(df1),(len(df1)+len(df3)), facecolor='green',alpha=0.2,label='Polarity > 0')\n",
        "plt.axvspan((len(df1)+len(df3)),(len(df1)+len(df3)+len(df2)), facecolor='orange',alpha=0.2, label='Polarity = 0')\n",
        "\n",
        "# plot average lines\n",
        "plt.axhline(y=av1,linewidth=3, color='b',label='Average (Polarity < 0): '+str(av1)[2:4]+'%')\n",
        "plt.axhline(y=av2,linewidth=3, color='r',label='Average (Polarity > 0): '+str(av2)[2:4]+'%')\n",
        "plt.axhline(y=av3,linewidth=3, color='g',label='Average (Polarity = 0): '+str(av3)[2:4]+'%')\n",
        "\n",
        "# label x axis as polarity\n",
        "labels = ['-1','0','0.1','0.2','0.3','0.4','0.5','1']\n",
        "ticks = [0,len(df1),2655,4539,6869,8704,9924,11065]\n",
        "\n",
        "ax.set_xticks(ticks)\n",
        "ax.set_xticklabels(labels)\n",
        "\n",
        "ax.legend(bbox_to_anchor=(1, 1))\n",
        "plt.title('Percentage of Positive Words Sorted by Polarity')\n",
        "plt.xlabel('Polarity')\n",
        "plt.ylabel('Positive Word Percentage')"
      ],
      "metadata": {
        "id": "fLMkZbCLmcWm"
      },
      "execution_count": null,
      "outputs": []
    },
    {
      "cell_type": "code",
      "source": [
        "new_data.columns"
      ],
      "metadata": {
        "id": "SNljT8tAmea3"
      },
      "execution_count": null,
      "outputs": []
    },
    {
      "cell_type": "code",
      "source": [
        "data_analyzed_50k = new_data[['review_id', 'user_id', 'business_id', 'stars', 'useful', 'funny',\n",
        "       'cool', 'text', 'date', 'data len', 'Review_Word_Count',\n",
        "       'Review_Char_Count', 'Lowercase', 'Cleaned', 'No_Stop_Words:Tokens',\n",
        "       'No_Stop_Words:Sentence', 'Stop_Word_Count', 'Stop_Words_%',\n",
        "       'Lemmatized', 'Stemmed:Sentence', 'Stemmed:Tokens',\n",
        "       'Stemmed_Word_Count', 'Positive_Word_Count', 'Positive_Words_%', 'Negative_Word_Count', 'Negative_Words_%', 'Polarity', 'Subjectivity']]"
      ],
      "metadata": {
        "id": "YE_qqtWnmirO"
      },
      "execution_count": null,
      "outputs": []
    },
    {
      "cell_type": "code",
      "source": [
        "data_analyzed_50k.to_csv(r'data_analyzed_50k.csv',index=False)"
      ],
      "metadata": {
        "id": "V7mYuCurmq0j"
      },
      "execution_count": null,
      "outputs": []
    },
    {
      "cell_type": "code",
      "source": [
        "data_analyzed_50k.head(1)"
      ],
      "metadata": {
        "id": "shJHShyYmu0X"
      },
      "execution_count": null,
      "outputs": []
    },
    {
      "cell_type": "code",
      "source": [],
      "metadata": {
        "id": "CnHPB4n9mzmi"
      },
      "execution_count": null,
      "outputs": []
    }
  ]
}