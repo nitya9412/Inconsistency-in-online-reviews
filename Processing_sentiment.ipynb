{
  "nbformat": 4,
  "nbformat_minor": 0,
  "metadata": {
    "colab": {
      "provenance": []
    },
    "kernelspec": {
      "name": "python3",
      "display_name": "Python 3"
    },
    "language_info": {
      "name": "python"
    },
    "gpuClass": "standard"
  },
  "cells": [
    {
      "cell_type": "code",
      "execution_count": null,
      "metadata": {
        "id": "MPynLnzgkyun"
      },
      "outputs": [],
      "source": [
        "import numpy as np\n",
        "import pandas as pd\n",
        "import matplotlib.pyplot as plt"
      ]
    },
    {
      "cell_type": "code",
      "source": [
        "import spacy\n",
        "nlp = spacy.load('en_core_web_sm')"
      ],
      "metadata": {
        "id": "H1nkTeQzk3qp"
      },
      "execution_count": null,
      "outputs": []
    },
    {
      "cell_type": "code",
      "source": [
        "from google.colab import drive\n",
        "drive.mount('/content/gdrive')"
      ],
      "metadata": {
        "colab": {
          "base_uri": "https://localhost:8080/"
        },
        "id": "sMGutGWQlE3k",
        "outputId": "16266700-0ee9-4086-cbca-ef68d91e428d"
      },
      "execution_count": null,
      "outputs": [
        {
          "output_type": "stream",
          "name": "stdout",
          "text": [
            "Drive already mounted at /content/gdrive; to attempt to forcibly remount, call drive.mount(\"/content/gdrive\", force_remount=True).\n"
          ]
        }
      ]
    },
    {
      "cell_type": "code",
      "source": [
        "data =pd.read_csv(\"/content/gdrive/MyDrive/Google Colab/data_analyzed_50k.csv\", on_bad_lines='skip')"
      ],
      "metadata": {
        "id": "HLCN-yzalI-f"
      },
      "execution_count": null,
      "outputs": []
    },
    {
      "cell_type": "code",
      "source": [
        "data.shape"
      ],
      "metadata": {
        "colab": {
          "base_uri": "https://localhost:8080/"
        },
        "id": "vvLGJRkemo6W",
        "outputId": "dd1f2da1-6b7e-4573-ac64-0e5f5efb3903"
      },
      "execution_count": null,
      "outputs": [
        {
          "output_type": "execute_result",
          "data": {
            "text/plain": [
              "(50000, 28)"
            ]
          },
          "metadata": {},
          "execution_count": 43
        }
      ]
    },
    {
      "cell_type": "code",
      "source": [
        "data.head(1)"
      ],
      "metadata": {
        "colab": {
          "base_uri": "https://localhost:8080/",
          "height": 295
        },
        "id": "oE7Kii1fm1JS",
        "outputId": "5bbca371-11e2-4a3d-a991-935539dbf84e"
      },
      "execution_count": null,
      "outputs": [
        {
          "output_type": "execute_result",
          "data": {
            "text/plain": [
              "                review_id                 user_id             business_id  \\\n",
              "0  KU_O5udG6zpxOg-VcAEodg  mh_-eMZ6K5RLWhZyISBhwA  XQfwVwDr-v0ZS3_CbbE5Xw   \n",
              "\n",
              "   stars  useful  funny  cool  \\\n",
              "0      3       0      0     0   \n",
              "\n",
              "                                                text            date  \\\n",
              "0  If you decide to eat here, just be aware it is...  7/7/2018 22:09   \n",
              "\n",
              "   data len  ...                                         Lemmatized  \\\n",
              "0       515  ...  decide eat aware going take 2 hour beginning e...   \n",
              "\n",
              "                                    Stemmed:Sentence  \\\n",
              "0  decid eat awar go take 2 hour begin end tri mu...   \n",
              "\n",
              "                                      Stemmed:Tokens Stemmed_Word_Count  \\\n",
              "0  ['decid', 'eat', 'awar', 'go', 'take', '2', 'h...                 45   \n",
              "\n",
              "  Positive_Word_Count Positive_Words_%  Negative_Word_Count  Negative_Words_%  \\\n",
              "0                   8         0.166667                    3            0.0625   \n",
              "\n",
              "   Polarity Subjectivity  \n",
              "0  0.198485     0.412121  \n",
              "\n",
              "[1 rows x 28 columns]"
            ],
            "text/html": [
              "\n",
              "  <div id=\"df-23bf5c31-c33a-447c-ac59-697c0ff78195\">\n",
              "    <div class=\"colab-df-container\">\n",
              "      <div>\n",
              "<style scoped>\n",
              "    .dataframe tbody tr th:only-of-type {\n",
              "        vertical-align: middle;\n",
              "    }\n",
              "\n",
              "    .dataframe tbody tr th {\n",
              "        vertical-align: top;\n",
              "    }\n",
              "\n",
              "    .dataframe thead th {\n",
              "        text-align: right;\n",
              "    }\n",
              "</style>\n",
              "<table border=\"1\" class=\"dataframe\">\n",
              "  <thead>\n",
              "    <tr style=\"text-align: right;\">\n",
              "      <th></th>\n",
              "      <th>review_id</th>\n",
              "      <th>user_id</th>\n",
              "      <th>business_id</th>\n",
              "      <th>stars</th>\n",
              "      <th>useful</th>\n",
              "      <th>funny</th>\n",
              "      <th>cool</th>\n",
              "      <th>text</th>\n",
              "      <th>date</th>\n",
              "      <th>data len</th>\n",
              "      <th>...</th>\n",
              "      <th>Lemmatized</th>\n",
              "      <th>Stemmed:Sentence</th>\n",
              "      <th>Stemmed:Tokens</th>\n",
              "      <th>Stemmed_Word_Count</th>\n",
              "      <th>Positive_Word_Count</th>\n",
              "      <th>Positive_Words_%</th>\n",
              "      <th>Negative_Word_Count</th>\n",
              "      <th>Negative_Words_%</th>\n",
              "      <th>Polarity</th>\n",
              "      <th>Subjectivity</th>\n",
              "    </tr>\n",
              "  </thead>\n",
              "  <tbody>\n",
              "    <tr>\n",
              "      <th>0</th>\n",
              "      <td>KU_O5udG6zpxOg-VcAEodg</td>\n",
              "      <td>mh_-eMZ6K5RLWhZyISBhwA</td>\n",
              "      <td>XQfwVwDr-v0ZS3_CbbE5Xw</td>\n",
              "      <td>3</td>\n",
              "      <td>0</td>\n",
              "      <td>0</td>\n",
              "      <td>0</td>\n",
              "      <td>If you decide to eat here, just be aware it is...</td>\n",
              "      <td>7/7/2018 22:09</td>\n",
              "      <td>515</td>\n",
              "      <td>...</td>\n",
              "      <td>decide eat aware going take 2 hour beginning e...</td>\n",
              "      <td>decid eat awar go take 2 hour begin end tri mu...</td>\n",
              "      <td>['decid', 'eat', 'awar', 'go', 'take', '2', 'h...</td>\n",
              "      <td>45</td>\n",
              "      <td>8</td>\n",
              "      <td>0.166667</td>\n",
              "      <td>3</td>\n",
              "      <td>0.0625</td>\n",
              "      <td>0.198485</td>\n",
              "      <td>0.412121</td>\n",
              "    </tr>\n",
              "  </tbody>\n",
              "</table>\n",
              "<p>1 rows × 28 columns</p>\n",
              "</div>\n",
              "      <button class=\"colab-df-convert\" onclick=\"convertToInteractive('df-23bf5c31-c33a-447c-ac59-697c0ff78195')\"\n",
              "              title=\"Convert this dataframe to an interactive table.\"\n",
              "              style=\"display:none;\">\n",
              "        \n",
              "  <svg xmlns=\"http://www.w3.org/2000/svg\" height=\"24px\"viewBox=\"0 0 24 24\"\n",
              "       width=\"24px\">\n",
              "    <path d=\"M0 0h24v24H0V0z\" fill=\"none\"/>\n",
              "    <path d=\"M18.56 5.44l.94 2.06.94-2.06 2.06-.94-2.06-.94-.94-2.06-.94 2.06-2.06.94zm-11 1L8.5 8.5l.94-2.06 2.06-.94-2.06-.94L8.5 2.5l-.94 2.06-2.06.94zm10 10l.94 2.06.94-2.06 2.06-.94-2.06-.94-.94-2.06-.94 2.06-2.06.94z\"/><path d=\"M17.41 7.96l-1.37-1.37c-.4-.4-.92-.59-1.43-.59-.52 0-1.04.2-1.43.59L10.3 9.45l-7.72 7.72c-.78.78-.78 2.05 0 2.83L4 21.41c.39.39.9.59 1.41.59.51 0 1.02-.2 1.41-.59l7.78-7.78 2.81-2.81c.8-.78.8-2.07 0-2.86zM5.41 20L4 18.59l7.72-7.72 1.47 1.35L5.41 20z\"/>\n",
              "  </svg>\n",
              "      </button>\n",
              "      \n",
              "  <style>\n",
              "    .colab-df-container {\n",
              "      display:flex;\n",
              "      flex-wrap:wrap;\n",
              "      gap: 12px;\n",
              "    }\n",
              "\n",
              "    .colab-df-convert {\n",
              "      background-color: #E8F0FE;\n",
              "      border: none;\n",
              "      border-radius: 50%;\n",
              "      cursor: pointer;\n",
              "      display: none;\n",
              "      fill: #1967D2;\n",
              "      height: 32px;\n",
              "      padding: 0 0 0 0;\n",
              "      width: 32px;\n",
              "    }\n",
              "\n",
              "    .colab-df-convert:hover {\n",
              "      background-color: #E2EBFA;\n",
              "      box-shadow: 0px 1px 2px rgba(60, 64, 67, 0.3), 0px 1px 3px 1px rgba(60, 64, 67, 0.15);\n",
              "      fill: #174EA6;\n",
              "    }\n",
              "\n",
              "    [theme=dark] .colab-df-convert {\n",
              "      background-color: #3B4455;\n",
              "      fill: #D2E3FC;\n",
              "    }\n",
              "\n",
              "    [theme=dark] .colab-df-convert:hover {\n",
              "      background-color: #434B5C;\n",
              "      box-shadow: 0px 1px 3px 1px rgba(0, 0, 0, 0.15);\n",
              "      filter: drop-shadow(0px 1px 2px rgba(0, 0, 0, 0.3));\n",
              "      fill: #FFFFFF;\n",
              "    }\n",
              "  </style>\n",
              "\n",
              "      <script>\n",
              "        const buttonEl =\n",
              "          document.querySelector('#df-23bf5c31-c33a-447c-ac59-697c0ff78195 button.colab-df-convert');\n",
              "        buttonEl.style.display =\n",
              "          google.colab.kernel.accessAllowed ? 'block' : 'none';\n",
              "\n",
              "        async function convertToInteractive(key) {\n",
              "          const element = document.querySelector('#df-23bf5c31-c33a-447c-ac59-697c0ff78195');\n",
              "          const dataTable =\n",
              "            await google.colab.kernel.invokeFunction('convertToInteractive',\n",
              "                                                     [key], {});\n",
              "          if (!dataTable) return;\n",
              "\n",
              "          const docLinkHtml = 'Like what you see? Visit the ' +\n",
              "            '<a target=\"_blank\" href=https://colab.research.google.com/notebooks/data_table.ipynb>data table notebook</a>'\n",
              "            + ' to learn more about interactive tables.';\n",
              "          element.innerHTML = '';\n",
              "          dataTable['output_type'] = 'display_data';\n",
              "          await google.colab.output.renderOutput(dataTable, element);\n",
              "          const docLink = document.createElement('div');\n",
              "          docLink.innerHTML = docLinkHtml;\n",
              "          element.appendChild(docLink);\n",
              "        }\n",
              "      </script>\n",
              "    </div>\n",
              "  </div>\n",
              "  "
            ]
          },
          "metadata": {},
          "execution_count": 44
        }
      ]
    },
    {
      "cell_type": "code",
      "source": [
        "import matplotlib.pyplot as plt\n",
        "plt.figure(figsize=(15,5))\n",
        "data['Polarity'].plot()\n",
        "data['stars'].plot()\n",
        "plt.title('Star rating and polarity score')\n",
        "plt.xlabel('Polarity')\n",
        "plt.ylabel('Stars')\n",
        "plt.legend()"
      ],
      "metadata": {
        "colab": {
          "base_uri": "https://localhost:8080/",
          "height": 368
        },
        "id": "psSAxyMIMUcR",
        "outputId": "492e8617-ed1e-4cf0-bff2-c0c24d5801ed"
      },
      "execution_count": null,
      "outputs": [
        {
          "output_type": "execute_result",
          "data": {
            "text/plain": [
              "<matplotlib.legend.Legend at 0x7f278613fca0>"
            ]
          },
          "metadata": {},
          "execution_count": 45
        },
        {
          "output_type": "display_data",
          "data": {
            "text/plain": [
              "<Figure size 1080x360 with 1 Axes>"
            ],
            "image/png": "[encoded data removed]"
          },
          "metadata": {
            "needs_background": "light"
          }
        }
      ]
    },
    {
      "cell_type": "code",
      "source": [
        "# Categorization and Dummy Variables\n",
        "yelp_data_s = data[data['Polarity'] != 0]\n",
        "yelp_data_s = yelp_data_s.reset_index()"
      ],
      "metadata": {
        "id": "IFA7UeOpm33A"
      },
      "execution_count": null,
      "outputs": []
    },
    {
      "cell_type": "code",
      "source": [
        "sentiment = []\n",
        "for i in range(len(yelp_data_s)):\n",
        "    if yelp_data_s['Polarity'][i] > 0:\n",
        "        sentiment.append('Positive')\n",
        "    if yelp_data_s['Polarity'][i] < 0:\n",
        "        sentiment.append('Negative')\n",
        "yelp_data_s['sentiment'] = sentiment"
      ],
      "metadata": {
        "id": "5iCDIeq-nWWi"
      },
      "execution_count": null,
      "outputs": []
    },
    {
      "cell_type": "code",
      "source": [
        "yelp_data_s['sentiment'].value_counts().plot(kind='bar')\n",
        "plt.title('Assigned Sentiment of Training Data');"
      ],
      "metadata": {
        "colab": {
          "base_uri": "https://localhost:8080/",
          "height": 316
        },
        "id": "5fmPc5rszybv",
        "outputId": "d8377dd6-1f1b-4494-c688-2ef388e66db3"
      },
      "execution_count": null,
      "outputs": [
        {
          "output_type": "display_data",
          "data": {
            "text/plain": [
              "<Figure size 432x288 with 1 Axes>"
            ],
            "image/png": "[encoded data removed]"
          },
          "metadata": {
            "needs_background": "light"
          }
        }
      ]
    },
    {
      "cell_type": "code",
      "source": [
        "print(yelp_data_s.shape)"
      ],
      "metadata": {
        "colab": {
          "base_uri": "https://localhost:8080/"
        },
        "id": "fdJmlZK84IVC",
        "outputId": "c39a9b7e-3e2f-4ba0-c7eb-dd67a00cfc20"
      },
      "execution_count": null,
      "outputs": [
        {
          "output_type": "stream",
          "name": "stdout",
          "text": [
            "(49476, 30)\n"
          ]
        }
      ]
    },
    {
      "cell_type": "code",
      "source": [
        "# sorting more for better results\n",
        "sentiment = []\n",
        "for i in range(len(yelp_data_s)):\n",
        "    if yelp_data_s['Polarity'][i] >= 0.5:\n",
        "        yelp_data_s['sentiment'][i] = 5\n",
        "    elif yelp_data_s['Polarity'][i] >= 0.4:\n",
        "        yelp_data_s['sentiment'][i] = 4\n",
        "    elif yelp_data_s['Polarity'][i] >= 0.2:\n",
        "        yelp_data_s['sentiment'][i] = 3\n",
        "    elif yelp_data_s['Polarity'][i] >= 0.0:\n",
        "          yelp_data_s['sentiment'][i] = 2\n",
        "    else:\n",
        "        yelp_data_s['sentiment'][i] = 1\n",
        "\n"
      ],
      "metadata": {
        "id": "CB4zzzYiz1AR",
        "colab": {
          "base_uri": "https://localhost:8080/"
        },
        "outputId": "119aa9f4-a471-498a-a4ee-011613ccbfa3"
      },
      "execution_count": null,
      "outputs": [
        {
          "output_type": "stream",
          "name": "stderr",
          "text": [
            "<ipython-input-50-6cb65a2c0e93>:11: SettingWithCopyWarning: \n",
            "A value is trying to be set on a copy of a slice from a DataFrame\n",
            "\n",
            "See the caveats in the documentation: https://pandas.pydata.org/pandas-docs/stable/user_guide/indexing.html#returning-a-view-versus-a-copy\n",
            "  yelp_data_s['sentiment'][i] = 2\n",
            "<ipython-input-50-6cb65a2c0e93>:9: SettingWithCopyWarning: \n",
            "A value is trying to be set on a copy of a slice from a DataFrame\n",
            "\n",
            "See the caveats in the documentation: https://pandas.pydata.org/pandas-docs/stable/user_guide/indexing.html#returning-a-view-versus-a-copy\n",
            "  yelp_data_s['sentiment'][i] = 3\n",
            "<ipython-input-50-6cb65a2c0e93>:7: SettingWithCopyWarning: \n",
            "A value is trying to be set on a copy of a slice from a DataFrame\n",
            "\n",
            "See the caveats in the documentation: https://pandas.pydata.org/pandas-docs/stable/user_guide/indexing.html#returning-a-view-versus-a-copy\n",
            "  yelp_data_s['sentiment'][i] = 4\n",
            "<ipython-input-50-6cb65a2c0e93>:5: SettingWithCopyWarning: \n",
            "A value is trying to be set on a copy of a slice from a DataFrame\n",
            "\n",
            "See the caveats in the documentation: https://pandas.pydata.org/pandas-docs/stable/user_guide/indexing.html#returning-a-view-versus-a-copy\n",
            "  yelp_data_s['sentiment'][i] = 5\n",
            "<ipython-input-50-6cb65a2c0e93>:13: SettingWithCopyWarning: \n",
            "A value is trying to be set on a copy of a slice from a DataFrame\n",
            "\n",
            "See the caveats in the documentation: https://pandas.pydata.org/pandas-docs/stable/user_guide/indexing.html#returning-a-view-versus-a-copy\n",
            "  yelp_data_s['sentiment'][i] = 1\n"
          ]
        }
      ]
    },
    {
      "cell_type": "code",
      "source": [
        "yelp_data_s['sentiment'].value_counts().plot(kind='bar')\n",
        "plt.title('Assigned Sentiment of Training Data');"
      ],
      "metadata": {
        "colab": {
          "base_uri": "https://localhost:8080/",
          "height": 278
        },
        "id": "LzKiI0anz9WM",
        "outputId": "d23ff840-7d96-49b9-efe2-11df2e223dfb"
      },
      "execution_count": null,
      "outputs": [
        {
          "output_type": "display_data",
          "data": {
            "text/plain": [
              "<Figure size 432x288 with 1 Axes>"
            ],
            "image/png": "[encoded data removed]"
          },
          "metadata": {
            "needs_background": "light"
          }
        }
      ]
    },
    {
      "cell_type": "code",
      "source": [
        "yelp_data_s.head()"
      ],
      "metadata": {
        "id": "wQC5RSex2N08",
        "colab": {
          "base_uri": "https://localhost:8080/",
          "height": 750
        },
        "outputId": "fac5b50a-f59a-4c79-a0da-682330cf69e6"
      },
      "execution_count": null,
      "outputs": [
        {
          "output_type": "execute_result",
          "data": {
            "text/plain": [
              "   index               review_id                 user_id  \\\n",
              "0      0  KU_O5udG6zpxOg-VcAEodg  mh_-eMZ6K5RLWhZyISBhwA   \n",
              "1      1  BiTunyQ73aT9WBnpR9DZGw  OyoGAe7OKpv6SyGZT5g77Q   \n",
              "2      2  saUsX_uimxRlCVr67Z4Jig  8g_iMtfSiwikVnbP2etR0A   \n",
              "3      3  AqPFMleE6RsU23_auESxiA  _7bHUi9Uuf5__HHc_Q8guQ   \n",
              "4      4  Sx8TMOWLNuJBWer-0pcmoA  bcjbaE6dDog4jkNY91ncLQ   \n",
              "\n",
              "              business_id  stars  useful  funny  cool  \\\n",
              "0  XQfwVwDr-v0ZS3_CbbE5Xw      3       0      0     0   \n",
              "1  7ATYjTIgM3jUlt4UM3IypQ      5       1      0     1   \n",
              "2  YjUWPpI6HXG530lwP-fb2A      3       0      0     0   \n",
              "3  kxX2SOes4o-D3ZQBkiMRfA      5       1      0     1   \n",
              "4  e4Vwtrqf-wpJfwesgvdgxQ      4       1      0     1   \n",
              "\n",
              "                                                text             date  ...  \\\n",
              "0  If you decide to eat here, just be aware it is...   7/7/2018 22:09  ...   \n",
              "1  I've taken a lot of spin classes over the year...   1/3/2012 15:28  ...   \n",
              "2  Family diner. Had the buffet. Eclectic assortm...   2/5/2014 20:30  ...   \n",
              "3  Wow!  Yummy, different,  delicious.   Our favo...    1/4/2015 0:01  ...   \n",
              "4  Cute interior and owner (?) gave us tour of up...  1/14/2017 20:54  ...   \n",
              "\n",
              "                                    Stemmed:Sentence  \\\n",
              "0  decid eat awar go take 2 hour begin end tri mu...   \n",
              "1  ive taken lot spin class year noth compar clas...   \n",
              "2  famili diner buffet eclect assort larg chicken...   \n",
              "3  wow yummi differ delici favorit lamb curri kor...   \n",
              "4  cute interior owner gave u tour upcom patioroo...   \n",
              "\n",
              "                                      Stemmed:Tokens  Stemmed_Word_Count  \\\n",
              "0  ['decid', 'eat', 'awar', 'go', 'take', '2', 'h...                  45   \n",
              "1  ['ive', 'taken', 'lot', 'spin', 'class', 'year...                  84   \n",
              "2  ['famili', 'diner', 'buffet', 'eclect', 'assor...                  39   \n",
              "3  ['wow', 'yummi', 'differ', 'delici', 'favorit'...                  24   \n",
              "4  ['cute', 'interior', 'owner', 'gave', 'u', 'to...                  63   \n",
              "\n",
              "  Positive_Word_Count Positive_Words_% Negative_Word_Count Negative_Words_%  \\\n",
              "0                   8         0.166667                   3         0.062500   \n",
              "1                  18         0.206897                   1         0.011494   \n",
              "2                   6         0.150000                   2         0.050000   \n",
              "3                   5         0.208333                   2         0.083333   \n",
              "4                  12         0.190476                   1         0.015873   \n",
              "\n",
              "   Polarity  Subjectivity sentiment  \n",
              "0  0.198485      0.412121         2  \n",
              "1  0.395455      0.571212         3  \n",
              "2  0.139935      0.522294         2  \n",
              "3  0.315152      0.733838         3  \n",
              "4  0.416234      0.490260         4  \n",
              "\n",
              "[5 rows x 30 columns]"
            ],
            "text/html": [
              "\n",
              "  <div id=\"df-74b73c25-5bcb-4cc2-b289-b56d59538b26\">\n",
              "    <div class=\"colab-df-container\">\n",
              "      <div>\n",
              "<style scoped>\n",
              "    .dataframe tbody tr th:only-of-type {\n",
              "        vertical-align: middle;\n",
              "    }\n",
              "\n",
              "    .dataframe tbody tr th {\n",
              "        vertical-align: top;\n",
              "    }\n",
              "\n",
              "    .dataframe thead th {\n",
              "        text-align: right;\n",
              "    }\n",
              "</style>\n",
              "<table border=\"1\" class=\"dataframe\">\n",
              "  <thead>\n",
              "    <tr style=\"text-align: right;\">\n",
              "      <th></th>\n",
              "      <th>index</th>\n",
              "      <th>review_id</th>\n",
              "      <th>user_id</th>\n",
              "      <th>business_id</th>\n",
              "      <th>stars</th>\n",
              "      <th>useful</th>\n",
              "      <th>funny</th>\n",
              "      <th>cool</th>\n",
              "      <th>text</th>\n",
              "      <th>date</th>\n",
              "      <th>...</th>\n",
              "      <th>Stemmed:Sentence</th>\n",
              "      <th>Stemmed:Tokens</th>\n",
              "      <th>Stemmed_Word_Count</th>\n",
              "      <th>Positive_Word_Count</th>\n",
              "      <th>Positive_Words_%</th>\n",
              "      <th>Negative_Word_Count</th>\n",
              "      <th>Negative_Words_%</th>\n",
              "      <th>Polarity</th>\n",
              "      <th>Subjectivity</th>\n",
              "      <th>sentiment</th>\n",
              "    </tr>\n",
              "  </thead>\n",
              "  <tbody>\n",
              "    <tr>\n",
              "      <th>0</th>\n",
              "      <td>0</td>\n",
              "      <td>KU_O5udG6zpxOg-VcAEodg</td>\n",
              "      <td>mh_-eMZ6K5RLWhZyISBhwA</td>\n",
              "      <td>XQfwVwDr-v0ZS3_CbbE5Xw</td>\n",
              "      <td>3</td>\n",
              "      <td>0</td>\n",
              "      <td>0</td>\n",
              "      <td>0</td>\n",
              "      <td>If you decide to eat here, just be aware it is...</td>\n",
              "      <td>7/7/2018 22:09</td>\n",
              "      <td>...</td>\n",
              "      <td>decid eat awar go take 2 hour begin end tri mu...</td>\n",
              "      <td>['decid', 'eat', 'awar', 'go', 'take', '2', 'h...</td>\n",
              "      <td>45</td>\n",
              "      <td>8</td>\n",
              "      <td>0.166667</td>\n",
              "      <td>3</td>\n",
              "      <td>0.062500</td>\n",
              "      <td>0.198485</td>\n",
              "      <td>0.412121</td>\n",
              "      <td>2</td>\n",
              "    </tr>\n",
              "    <tr>\n",
              "      <th>1</th>\n",
              "      <td>1</td>\n",
              "      <td>BiTunyQ73aT9WBnpR9DZGw</td>\n",
              "      <td>OyoGAe7OKpv6SyGZT5g77Q</td>\n",
              "      <td>7ATYjTIgM3jUlt4UM3IypQ</td>\n",
              "      <td>5</td>\n",
              "      <td>1</td>\n",
              "      <td>0</td>\n",
              "      <td>1</td>\n",
              "      <td>I've taken a lot of spin classes over the year...</td>\n",
              "      <td>1/3/2012 15:28</td>\n",
              "      <td>...</td>\n",
              "      <td>ive taken lot spin class year noth compar clas...</td>\n",
              "      <td>['ive', 'taken', 'lot', 'spin', 'class', 'year...</td>\n",
              "      <td>84</td>\n",
              "      <td>18</td>\n",
              "      <td>0.206897</td>\n",
              "      <td>1</td>\n",
              "      <td>0.011494</td>\n",
              "      <td>0.395455</td>\n",
              "      <td>0.571212</td>\n",
              "      <td>3</td>\n",
              "    </tr>\n",
              "    <tr>\n",
              "      <th>2</th>\n",
              "      <td>2</td>\n",
              "      <td>saUsX_uimxRlCVr67Z4Jig</td>\n",
              "      <td>8g_iMtfSiwikVnbP2etR0A</td>\n",
              "      <td>YjUWPpI6HXG530lwP-fb2A</td>\n",
              "      <td>3</td>\n",
              "      <td>0</td>\n",
              "      <td>0</td>\n",
              "      <td>0</td>\n",
              "      <td>Family diner. Had the buffet. Eclectic assortm...</td>\n",
              "      <td>2/5/2014 20:30</td>\n",
              "      <td>...</td>\n",
              "      <td>famili diner buffet eclect assort larg chicken...</td>\n",
              "      <td>['famili', 'diner', 'buffet', 'eclect', 'assor...</td>\n",
              "      <td>39</td>\n",
              "      <td>6</td>\n",
              "      <td>0.150000</td>\n",
              "      <td>2</td>\n",
              "      <td>0.050000</td>\n",
              "      <td>0.139935</td>\n",
              "      <td>0.522294</td>\n",
              "      <td>2</td>\n",
              "    </tr>\n",
              "    <tr>\n",
              "      <th>3</th>\n",
              "      <td>3</td>\n",
              "      <td>AqPFMleE6RsU23_auESxiA</td>\n",
              "      <td>_7bHUi9Uuf5__HHc_Q8guQ</td>\n",
              "      <td>kxX2SOes4o-D3ZQBkiMRfA</td>\n",
              "      <td>5</td>\n",
              "      <td>1</td>\n",
              "      <td>0</td>\n",
              "      <td>1</td>\n",
              "      <td>Wow!  Yummy, different,  delicious.   Our favo...</td>\n",
              "      <td>1/4/2015 0:01</td>\n",
              "      <td>...</td>\n",
              "      <td>wow yummi differ delici favorit lamb curri kor...</td>\n",
              "      <td>['wow', 'yummi', 'differ', 'delici', 'favorit'...</td>\n",
              "      <td>24</td>\n",
              "      <td>5</td>\n",
              "      <td>0.208333</td>\n",
              "      <td>2</td>\n",
              "      <td>0.083333</td>\n",
              "      <td>0.315152</td>\n",
              "      <td>0.733838</td>\n",
              "      <td>3</td>\n",
              "    </tr>\n",
              "    <tr>\n",
              "      <th>4</th>\n",
              "      <td>4</td>\n",
              "      <td>Sx8TMOWLNuJBWer-0pcmoA</td>\n",
              "      <td>bcjbaE6dDog4jkNY91ncLQ</td>\n",
              "      <td>e4Vwtrqf-wpJfwesgvdgxQ</td>\n",
              "      <td>4</td>\n",
              "      <td>1</td>\n",
              "      <td>0</td>\n",
              "      <td>1</td>\n",
              "      <td>Cute interior and owner (?) gave us tour of up...</td>\n",
              "      <td>1/14/2017 20:54</td>\n",
              "      <td>...</td>\n",
              "      <td>cute interior owner gave u tour upcom patioroo...</td>\n",
              "      <td>['cute', 'interior', 'owner', 'gave', 'u', 'to...</td>\n",
              "      <td>63</td>\n",
              "      <td>12</td>\n",
              "      <td>0.190476</td>\n",
              "      <td>1</td>\n",
              "      <td>0.015873</td>\n",
              "      <td>0.416234</td>\n",
              "      <td>0.490260</td>\n",
              "      <td>4</td>\n",
              "    </tr>\n",
              "  </tbody>\n",
              "</table>\n",
              "<p>5 rows × 30 columns</p>\n",
              "</div>\n",
              "      <button class=\"colab-df-convert\" onclick=\"convertToInteractive('df-74b73c25-5bcb-4cc2-b289-b56d59538b26')\"\n",
              "              title=\"Convert this dataframe to an interactive table.\"\n",
              "              style=\"display:none;\">\n",
              "        \n",
              "  <svg xmlns=\"http://www.w3.org/2000/svg\" height=\"24px\"viewBox=\"0 0 24 24\"\n",
              "       width=\"24px\">\n",
              "    <path d=\"M0 0h24v24H0V0z\" fill=\"none\"/>\n",
              "    <path d=\"M18.56 5.44l.94 2.06.94-2.06 2.06-.94-2.06-.94-.94-2.06-.94 2.06-2.06.94zm-11 1L8.5 8.5l.94-2.06 2.06-.94-2.06-.94L8.5 2.5l-.94 2.06-2.06.94zm10 10l.94 2.06.94-2.06 2.06-.94-2.06-.94-.94-2.06-.94 2.06-2.06.94z\"/><path d=\"M17.41 7.96l-1.37-1.37c-.4-.4-.92-.59-1.43-.59-.52 0-1.04.2-1.43.59L10.3 9.45l-7.72 7.72c-.78.78-.78 2.05 0 2.83L4 21.41c.39.39.9.59 1.41.59.51 0 1.02-.2 1.41-.59l7.78-7.78 2.81-2.81c.8-.78.8-2.07 0-2.86zM5.41 20L4 18.59l7.72-7.72 1.47 1.35L5.41 20z\"/>\n",
              "  </svg>\n",
              "      </button>\n",
              "      \n",
              "  <style>\n",
              "    .colab-df-container {\n",
              "      display:flex;\n",
              "      flex-wrap:wrap;\n",
              "      gap: 12px;\n",
              "    }\n",
              "\n",
              "    .colab-df-convert {\n",
              "      background-color: #E8F0FE;\n",
              "      border: none;\n",
              "      border-radius: 50%;\n",
              "      cursor: pointer;\n",
              "      display: none;\n",
              "      fill: #1967D2;\n",
              "      height: 32px;\n",
              "      padding: 0 0 0 0;\n",
              "      width: 32px;\n",
              "    }\n",
              "\n",
              "    .colab-df-convert:hover {\n",
              "      background-color: #E2EBFA;\n",
              "      box-shadow: 0px 1px 2px rgba(60, 64, 67, 0.3), 0px 1px 3px 1px rgba(60, 64, 67, 0.15);\n",
              "      fill: #174EA6;\n",
              "    }\n",
              "\n",
              "    [theme=dark] .colab-df-convert {\n",
              "      background-color: #3B4455;\n",
              "      fill: #D2E3FC;\n",
              "    }\n",
              "\n",
              "    [theme=dark] .colab-df-convert:hover {\n",
              "      background-color: #434B5C;\n",
              "      box-shadow: 0px 1px 3px 1px rgba(0, 0, 0, 0.15);\n",
              "      filter: drop-shadow(0px 1px 2px rgba(0, 0, 0, 0.3));\n",
              "      fill: #FFFFFF;\n",
              "    }\n",
              "  </style>\n",
              "\n",
              "      <script>\n",
              "        const buttonEl =\n",
              "          document.querySelector('#df-74b73c25-5bcb-4cc2-b289-b56d59538b26 button.colab-df-convert');\n",
              "        buttonEl.style.display =\n",
              "          google.colab.kernel.accessAllowed ? 'block' : 'none';\n",
              "\n",
              "        async function convertToInteractive(key) {\n",
              "          const element = document.querySelector('#df-74b73c25-5bcb-4cc2-b289-b56d59538b26');\n",
              "          const dataTable =\n",
              "            await google.colab.kernel.invokeFunction('convertToInteractive',\n",
              "                                                     [key], {});\n",
              "          if (!dataTable) return;\n",
              "\n",
              "          const docLinkHtml = 'Like what you see? Visit the ' +\n",
              "            '<a target=\"_blank\" href=https://colab.research.google.com/notebooks/data_table.ipynb>data table notebook</a>'\n",
              "            + ' to learn more about interactive tables.';\n",
              "          element.innerHTML = '';\n",
              "          dataTable['output_type'] = 'display_data';\n",
              "          await google.colab.output.renderOutput(dataTable, element);\n",
              "          const docLink = document.createElement('div');\n",
              "          docLink.innerHTML = docLinkHtml;\n",
              "          element.appendChild(docLink);\n",
              "        }\n",
              "      </script>\n",
              "    </div>\n",
              "  </div>\n",
              "  "
            ]
          },
          "metadata": {},
          "execution_count": 52
        }
      ]
    },
    {
      "cell_type": "code",
      "source": [
        "yelp_data_s.columns"
      ],
      "metadata": {
        "colab": {
          "base_uri": "https://localhost:8080/"
        },
        "id": "-lzp2j___W98",
        "outputId": "d5086c8d-639c-4b40-81cd-0be59b7b850e"
      },
      "execution_count": null,
      "outputs": [
        {
          "output_type": "execute_result",
          "data": {
            "text/plain": [
              "Index(['index', 'review_id', 'user_id', 'business_id', 'stars', 'useful',\n",
              "       'funny', 'cool', 'text', 'date', 'data len', 'Review_Word_Count',\n",
              "       'Review_Char_Count', 'Lowercase', 'Cleaned', 'No_Stop_Words:Tokens',\n",
              "       'No_Stop_Words:Sentence', 'Stop_Word_Count', 'Stop_Words_%',\n",
              "       'Lemmatized', 'Stemmed:Sentence', 'Stemmed:Tokens',\n",
              "       'Stemmed_Word_Count', 'Positive_Word_Count', 'Positive_Words_%',\n",
              "       'Negative_Word_Count', 'Negative_Words_%', 'Polarity', 'Subjectivity',\n",
              "       'sentiment'],\n",
              "      dtype='object')"
            ]
          },
          "metadata": {},
          "execution_count": 53
        }
      ]
    },
    {
      "cell_type": "code",
      "source": [
        "yelp_data_sentiments=yelp_data_s[['stars','sentiment']]"
      ],
      "metadata": {
        "id": "SohJcEbC_r8q"
      },
      "execution_count": null,
      "outputs": []
    },
    {
      "cell_type": "code",
      "source": [
        "yelp_data_sentiments.to_csv(r'yelp_data_sentiments.csv',index=False)"
      ],
      "metadata": {
        "id": "RLUKCPwNARL7"
      },
      "execution_count": null,
      "outputs": []
    },
    {
      "cell_type": "code",
      "source": [
        "yelp_data_sentiments.head()"
      ],
      "metadata": {
        "colab": {
          "base_uri": "https://localhost:8080/",
          "height": 206
        },
        "id": "NC6BxXjLAjNG",
        "outputId": "a749569e-99b8-4f26-ff71-e94e3c2e55d9"
      },
      "execution_count": null,
      "outputs": [
        {
          "output_type": "execute_result",
          "data": {
            "text/plain": [
              "   stars sentiment\n",
              "0      3         2\n",
              "1      5         3\n",
              "2      3         2\n",
              "3      5         3\n",
              "4      4         4"
            ],
            "text/html": [
              "\n",
              "  <div id=\"df-6f5355c4-8c47-497e-b6e4-8397d89c2543\">\n",
              "    <div class=\"colab-df-container\">\n",
              "      <div>\n",
              "<style scoped>\n",
              "    .dataframe tbody tr th:only-of-type {\n",
              "        vertical-align: middle;\n",
              "    }\n",
              "\n",
              "    .dataframe tbody tr th {\n",
              "        vertical-align: top;\n",
              "    }\n",
              "\n",
              "    .dataframe thead th {\n",
              "        text-align: right;\n",
              "    }\n",
              "</style>\n",
              "<table border=\"1\" class=\"dataframe\">\n",
              "  <thead>\n",
              "    <tr style=\"text-align: right;\">\n",
              "      <th></th>\n",
              "      <th>stars</th>\n",
              "      <th>sentiment</th>\n",
              "    </tr>\n",
              "  </thead>\n",
              "  <tbody>\n",
              "    <tr>\n",
              "      <th>0</th>\n",
              "      <td>3</td>\n",
              "      <td>2</td>\n",
              "    </tr>\n",
              "    <tr>\n",
              "      <th>1</th>\n",
              "      <td>5</td>\n",
              "      <td>3</td>\n",
              "    </tr>\n",
              "    <tr>\n",
              "      <th>2</th>\n",
              "      <td>3</td>\n",
              "      <td>2</td>\n",
              "    </tr>\n",
              "    <tr>\n",
              "      <th>3</th>\n",
              "      <td>5</td>\n",
              "      <td>3</td>\n",
              "    </tr>\n",
              "    <tr>\n",
              "      <th>4</th>\n",
              "      <td>4</td>\n",
              "      <td>4</td>\n",
              "    </tr>\n",
              "  </tbody>\n",
              "</table>\n",
              "</div>\n",
              "      <button class=\"colab-df-convert\" onclick=\"convertToInteractive('df-6f5355c4-8c47-497e-b6e4-8397d89c2543')\"\n",
              "              title=\"Convert this dataframe to an interactive table.\"\n",
              "              style=\"display:none;\">\n",
              "        \n",
              "  <svg xmlns=\"http://www.w3.org/2000/svg\" height=\"24px\"viewBox=\"0 0 24 24\"\n",
              "       width=\"24px\">\n",
              "    <path d=\"M0 0h24v24H0V0z\" fill=\"none\"/>\n",
              "    <path d=\"M18.56 5.44l.94 2.06.94-2.06 2.06-.94-2.06-.94-.94-2.06-.94 2.06-2.06.94zm-11 1L8.5 8.5l.94-2.06 2.06-.94-2.06-.94L8.5 2.5l-.94 2.06-2.06.94zm10 10l.94 2.06.94-2.06 2.06-.94-2.06-.94-.94-2.06-.94 2.06-2.06.94z\"/><path d=\"M17.41 7.96l-1.37-1.37c-.4-.4-.92-.59-1.43-.59-.52 0-1.04.2-1.43.59L10.3 9.45l-7.72 7.72c-.78.78-.78 2.05 0 2.83L4 21.41c.39.39.9.59 1.41.59.51 0 1.02-.2 1.41-.59l7.78-7.78 2.81-2.81c.8-.78.8-2.07 0-2.86zM5.41 20L4 18.59l7.72-7.72 1.47 1.35L5.41 20z\"/>\n",
              "  </svg>\n",
              "      </button>\n",
              "      \n",
              "  <style>\n",
              "    .colab-df-container {\n",
              "      display:flex;\n",
              "      flex-wrap:wrap;\n",
              "      gap: 12px;\n",
              "    }\n",
              "\n",
              "    .colab-df-convert {\n",
              "      background-color: #E8F0FE;\n",
              "      border: none;\n",
              "      border-radius: 50%;\n",
              "      cursor: pointer;\n",
              "      display: none;\n",
              "      fill: #1967D2;\n",
              "      height: 32px;\n",
              "      padding: 0 0 0 0;\n",
              "      width: 32px;\n",
              "    }\n",
              "\n",
              "    .colab-df-convert:hover {\n",
              "      background-color: #E2EBFA;\n",
              "      box-shadow: 0px 1px 2px rgba(60, 64, 67, 0.3), 0px 1px 3px 1px rgba(60, 64, 67, 0.15);\n",
              "      fill: #174EA6;\n",
              "    }\n",
              "\n",
              "    [theme=dark] .colab-df-convert {\n",
              "      background-color: #3B4455;\n",
              "      fill: #D2E3FC;\n",
              "    }\n",
              "\n",
              "    [theme=dark] .colab-df-convert:hover {\n",
              "      background-color: #434B5C;\n",
              "      box-shadow: 0px 1px 3px 1px rgba(0, 0, 0, 0.15);\n",
              "      filter: drop-shadow(0px 1px 2px rgba(0, 0, 0, 0.3));\n",
              "      fill: #FFFFFF;\n",
              "    }\n",
              "  </style>\n",
              "\n",
              "      <script>\n",
              "        const buttonEl =\n",
              "          document.querySelector('#df-6f5355c4-8c47-497e-b6e4-8397d89c2543 button.colab-df-convert');\n",
              "        buttonEl.style.display =\n",
              "          google.colab.kernel.accessAllowed ? 'block' : 'none';\n",
              "\n",
              "        async function convertToInteractive(key) {\n",
              "          const element = document.querySelector('#df-6f5355c4-8c47-497e-b6e4-8397d89c2543');\n",
              "          const dataTable =\n",
              "            await google.colab.kernel.invokeFunction('convertToInteractive',\n",
              "                                                     [key], {});\n",
              "          if (!dataTable) return;\n",
              "\n",
              "          const docLinkHtml = 'Like what you see? Visit the ' +\n",
              "            '<a target=\"_blank\" href=https://colab.research.google.com/notebooks/data_table.ipynb>data table notebook</a>'\n",
              "            + ' to learn more about interactive tables.';\n",
              "          element.innerHTML = '';\n",
              "          dataTable['output_type'] = 'display_data';\n",
              "          await google.colab.output.renderOutput(dataTable, element);\n",
              "          const docLink = document.createElement('div');\n",
              "          docLink.innerHTML = docLinkHtml;\n",
              "          element.appendChild(docLink);\n",
              "        }\n",
              "      </script>\n",
              "    </div>\n",
              "  </div>\n",
              "  "
            ]
          },
          "metadata": {},
          "execution_count": 56
        }
      ]
    },
    {
      "cell_type": "code",
      "source": [
        "##from sklearn import datasets\n",
        "##import pandas as p\n",
        "##* * *import seaborn\n",
        "## matplotlib. pyplot as pt\n",
        "##import seaborn as sns\n",
        "\n",
        "#type(yelp_data_sentiments)\n",
        "##yelp_data_sentiments = yelp_data_sentiments.fillna(0.0)\n",
        "##data_array = np.asarray(yelp_data_sentiments.head())\n",
        "\n",
        "##ax = sns.heatmap(data_array, annot=True) * * *\n",
        "\n"
      ],
      "metadata": {
        "id": "Dva6P6VcAwla",
        "colab": {
          "base_uri": "https://localhost:8080/",
          "height": 269
        },
        "outputId": "f3682b98-457f-473a-f0ae-20df127790cc"
      },
      "execution_count": null,
      "outputs": [
        {
          "output_type": "display_data",
          "data": {
            "text/plain": [
              "<Figure size 432x288 with 2 Axes>"
            ],
            "image/png": "[encoded data removed]"
          },
          "metadata": {
            "needs_background": "light"
          }
        }
      ]
    },
    {
      "cell_type": "code",
      "source": [
        "from sklearn import datasets\n",
        "import pandas as p\n",
        "import seaborn\n",
        "import matplotlib. pyplot as pt\n",
        "import seaborn as sns\n",
        "\n",
        "#type(yelp_data_sentiments)\n",
        "yelp_data_sentiments = yelp_data_sentiments.fillna(0.0)\n",
        "\n",
        "sns.heatmap(yelp_data_sentiments.corr())\n",
        "\n"
      ],
      "metadata": {
        "id": "wcKJZ7G20ow3",
        "colab": {
          "base_uri": "https://localhost:8080/",
          "height": 287
        },
        "outputId": "335dcb2c-0ef6-46fc-daa2-952b024e6842"
      },
      "execution_count": null,
      "outputs": [
        {
          "output_type": "execute_result",
          "data": {
            "text/plain": [
              "<matplotlib.axes._subplots.AxesSubplot at 0x7f271db1a340>"
            ]
          },
          "metadata": {},
          "execution_count": 67
        },
        {
          "output_type": "display_data",
          "data": {
            "text/plain": [
              "<Figure size 432x288 with 2 Axes>"
            ],
            "image/png": "[encoded data removed]"
          },
          "metadata": {
            "needs_background": "light"
          }
        }
      ]
    },
    {
      "cell_type": "code",
      "source": [],
      "metadata": {
        "id": "IkOTTxgr18dD"
      },
      "execution_count": null,
      "outputs": []
    }
  ]
}